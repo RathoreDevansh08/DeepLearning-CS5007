{
 "cells": [
  {
   "cell_type": "code",
   "execution_count": 1,
   "metadata": {},
   "outputs": [],
   "source": [
    "import tensorflow as tf\n",
    "import numpy as np\n",
    "import matplotlib.pyplot as plt\n",
    "import matplotlib.image as mpimg\n"
   ]
  },
  {
   "cell_type": "markdown",
   "metadata": {},
   "source": [
    "# Translational invariance"
   ]
  },
  {
   "cell_type": "code",
   "execution_count": 2,
   "metadata": {},
   "outputs": [
    {
     "name": "stdout",
     "output_type": "stream",
     "text": [
      "(64, 68)\n"
     ]
    },
    {
     "data": {
      "image/png": "[encoded data removed]",
      "text/plain": [
       "<Figure size 432x288 with 1 Axes>"
      ]
     },
     "metadata": {
      "needs_background": "light"
     },
     "output_type": "display_data"
    }
   ],
   "source": [
    "def rgb2gray(rgb):\n",
    "    return np.dot(rgb[...,:3], [0.2989, 0.5870, 0.1140])\n",
    "\n",
    "#image = mpimg.imread(\"sobel1.jpg\")\n",
    "image1 = mpimg.imread(\"Cat11.png\")\n",
    "image1 = rgb2gray(image1)\n",
    "print(image1.shape)\n",
    "plt.imshow(image1,cmap=\"gray\")\n",
    "plt.show()"
   ]
  },
  {
   "cell_type": "code",
   "execution_count": 3,
   "metadata": {},
   "outputs": [
    {
     "name": "stdout",
     "output_type": "stream",
     "text": [
      "(64, 67)\n"
     ]
    },
    {
     "data": {
      "image/png": "[encoded data removed]",
      "text/plain": [
       "<Figure size 432x288 with 1 Axes>"
      ]
     },
     "metadata": {
      "needs_background": "light"
     },
     "output_type": "display_data"
    }
   ],
   "source": [
    "#image = mpimg.imread(\"sobel1.jpg\")\n",
    "image2 = mpimg.imread(\"Cat22.png\")\n",
    "image2 = rgb2gray(image2)\n",
    "print(image2.shape)\n",
    "plt.imshow(image2,cmap=\"gray\")\n",
    "plt.show()"
   ]
  },
  {
   "cell_type": "markdown",
   "metadata": {},
   "source": [
    "# CONV_2D\n",
    "x is the input – pixel values from the image.   W are the weights defined in the filter. The weights are defined as a four-dimensional tensor: [filter_height, filter_width, input_depth, output_depth].\n",
    "\n",
    "input_depth represents the number of layers in the image, for example three layers for RGB.\n",
    "\n",
    "output_depth represents the number of filters that should be applied to the image. Each filter is run through all the input layers, using a filter size defined by filter_height and filter_width, multiplies each input pixel by a weight, and sums up the results.\n",
    "\n",
    "stride is the speed by which the filter moves across the image, or the number of pixels it shifts every time. The stride is defined as a 4D tensor, because the input has four dimensions: [number_of_samples, height, width, colour_channels]. Setting the strides tensor to [1, strides, strides, 1] applies the filter to every image, every color channel, and every image patch in the height and width dimensions. 1 at the beginning and end specifies you won’t skip an image or an entire color channel. For example, strides=[1, 2, 2, 1] applies the filter to half the image patches in each dimension, and skips half."
   ]
  },
  {
   "cell_type": "code",
   "execution_count": 4,
   "metadata": {},
   "outputs": [
    {
     "name": "stdout",
     "output_type": "stream",
     "text": [
      "WARNING:tensorflow:From <ipython-input-4-f3c79aea788c>:25: flatten (from tensorflow.python.layers.core) is deprecated and will be removed in a future version.\n",
      "Instructions for updating:\n",
      "Use keras.layers.flatten instead.\n"
     ]
    }
   ],
   "source": [
    "#Define the kernel\n",
    "k = tf.constant([\n",
    "    [-1, -2, -1],\n",
    "    [0, 0, 0],\n",
    "    [1, 2, 1]\n",
    "], dtype=tf.float64)\n",
    "\n",
    "kernel = tf.reshape(k, [3, 3, 1, 1])\n",
    "\n",
    "#Convert image to tensor\n",
    "X = tf.convert_to_tensor(image1)\n",
    "\n",
    "#Convert image to 4D tensor\n",
    "inp1 = tf.reshape(X, [-1, 64,68,1])\n",
    "\n",
    "#------------------- conv(image)-> maxpool ------------------\n",
    "# first Convolutional Layer with stride 1\n",
    "conv1 = tf.nn.conv2d(inp1, kernel, [1, 1, 1, 1],padding=\"VALID\")\n",
    "\n",
    "# Max Pooling (down-sampling) with strides of 2 and kernel size of 3\n",
    "pool1 = tf.nn.max_pool(conv1, ksize=[1,3,3,1],strides = [1,2,2,1],padding='VALID')\n",
    "\n",
    "\n",
    "#Flat layer\n",
    "fc1 = tf.layers.flatten(pool1)\n",
    "\n",
    "Y = tf.convert_to_tensor(image2)\n",
    "\n",
    "#--------------------------conv(translated_image)-> maxpool----------------\n",
    "inp2 = tf.reshape(Y, [-1, 64,67,1])\n",
    "# first Convolutional Layer\n",
    "conv2 = tf.nn.conv2d(inp2, kernel, [1, 1, 1, 1],padding=\"VALID\")\n",
    "\n",
    "# first pooling layer\n",
    "# Max Pooling (down-sampling) with strides of 2 and kernel size of 3\n",
    "pool2 = tf.nn.max_pool(conv2, ksize=[1,3,3,1],strides =[1,2,2,1],padding='VALID')\n",
    "\n",
    "#Flat layer\n",
    "fc2 = tf.layers.flatten(pool2)\n"
   ]
  },
  {
   "cell_type": "code",
   "execution_count": 5,
   "metadata": {},
   "outputs": [
    {
     "name": "stdout",
     "output_type": "stream",
     "text": [
      "After convolution:  (1, 62, 66, 1)\n",
      "After max pooling:  (1, 30, 32, 1)\n",
      "Shape of features:  (1, 960)\n",
      "After convolution:  (1, 62, 65, 1)\n",
      "After max pooling:  (1, 30, 32, 1)\n",
      "Shape of features:  (1, 960)\n"
     ]
    }
   ],
   "source": [
    "sess = tf.Session()\n",
    "init = tf.global_variables_initializer()\n",
    "sess.run(init)\n",
    "\n",
    "c1 = sess.run(conv1)\n",
    "p1 = sess.run(pool1)\n",
    "f1 = sess.run(fc1)\n",
    "\n",
    "print(\"After convolution: \",c1.shape)\n",
    "print(\"After max pooling: \",p1.shape)\n",
    "print(\"Shape of features: \",f1.shape)\n",
    "c2 = sess.run(conv2)\n",
    "p2 = sess.run(pool2)\n",
    "f2 = sess.run(fc2)\n",
    "print(\"After convolution: \",c2.shape)\n",
    "print(\"After max pooling: \",p2.shape)\n",
    "print(\"Shape of features: \",f2.shape)\n",
    "sess.close()"
   ]
  },
  {
   "cell_type": "code",
   "execution_count": 6,
   "metadata": {},
   "outputs": [
    {
     "name": "stdout",
     "output_type": "stream",
     "text": [
      "Features after conv(x):\n",
      " [[ 2.22044605e-16  2.22044605e-16  2.22044605e-16  2.22044605e-16\n",
      "   2.22044605e-16  2.22044605e-16  2.22044605e-16  2.22044605e-16\n",
      "   2.22044605e-16  2.22044605e-16  2.22044605e-16  2.22044605e-16\n",
      "   2.22044605e-16  2.22044605e-16  2.22044605e-16  2.22044605e-16\n",
      "   2.22044605e-16  2.22044605e-16  2.22044605e-16  2.22044605e-16\n",
      "   2.22044605e-16  2.22044605e-16  2.22044605e-16  2.22044605e-16\n",
      "   2.22044605e-16  2.22044605e-16  2.22044605e-16  2.22044605e-16\n",
      "   2.22044605e-16  2.22044605e-16  2.22044605e-16  2.22044605e-16\n",
      "   2.22044605e-16  2.22044605e-16  2.22044605e-16  2.22044605e-16\n",
      "   2.22044605e-16  2.22044605e-16  2.22044605e-16  2.22044605e-16\n",
      "   2.22044605e-16  2.22044605e-16  2.22044605e-16  2.22044605e-16\n",
      "   2.22044605e-16  2.22044605e-16  2.22044605e-16  2.22044605e-16\n",
      "   2.22044605e-16  2.22044605e-16  2.22044605e-16  2.22044605e-16\n",
      "   2.22044605e-16  2.22044605e-16  2.22044605e-16  2.22044605e-16\n",
      "   2.22044605e-16  2.22044605e-16  2.22044605e-16  2.22044605e-16\n",
      "   2.22044605e-16  2.22044605e-16  2.22044605e-16  2.22044605e-16\n",
      "   2.22044605e-16  2.22044605e-16  2.22044605e-16  2.22044605e-16\n",
      "   2.22044605e-16  2.22044605e-16  1.72615676e-02  1.72615676e-02\n",
      "   3.68548998e-03  3.68548998e-03  1.17635287e-02  3.92117624e-03\n",
      "   3.92117624e-03  3.47411744e-03  3.47411744e-03  2.22044605e-16\n",
      "   2.22044605e-16  2.22044605e-16  2.22044605e-16  2.22044605e-16\n",
      "   2.22044605e-16  2.22044605e-16  2.22044605e-16  2.22044605e-16\n",
      "   2.22044605e-16  2.22044605e-16  2.22044605e-16  2.22044605e-16\n",
      "   2.22044605e-16  2.22044605e-16  2.22044605e-16  2.22044605e-16\n",
      "   2.22044605e-16  2.22044605e-16  2.22044605e-16  2.22044605e-16\n",
      "   2.22044605e-16  2.22044605e-16  1.72615676e-02  2.19078418e-02\n",
      "   2.19078418e-02  2.30376457e-02  2.30376457e-02  2.19078418e-02\n",
      "   1.93278420e-02  2.90674492e-02  2.19078418e-02  5.53011732e-02\n",
      "   5.53011732e-02  2.22044605e-16  2.22044605e-16  2.22044605e-16\n",
      "   2.22044605e-16  2.22044605e-16  2.22044605e-16  2.22044605e-16\n",
      "   2.22044605e-16  2.22044605e-16  2.22044605e-16  2.22044605e-16\n",
      "   2.22044605e-16  2.22044605e-16  2.22044605e-16  2.22044605e-16\n",
      "   2.22044605e-16  2.22044605e-16  2.22044605e-16  2.22044605e-16\n",
      "   2.22044605e-16  2.22044605e-16  1.22105875e-02  2.44211750e-02\n",
      "   2.19078418e-02 -3.64088636e-01  1.26576463e-02  1.61317637e-02\n",
      "   1.93278420e-02 -2.31602731e-01  4.40270562e-02  5.53011732e-02\n",
      "   5.53011732e-02  2.22044605e-16  2.22044605e-16  2.22044605e-16\n",
      "   2.22044605e-16  2.22044605e-16  2.22044605e-16  2.22044605e-16\n",
      "   2.22044605e-16  2.22044605e-16  2.22044605e-16  2.22044605e-16\n",
      "   2.22044605e-16  2.22044605e-16  2.22044605e-16  2.22044605e-16\n",
      "   2.22044605e-16  2.22044605e-16  2.22044605e-16  2.22044605e-16\n",
      "   2.22044605e-16  2.22044605e-16  9.46156806e-03  4.93560755e-02\n",
      "   4.93560755e-02  1.88807832e-02  1.88807832e-02 -2.97501943e-02\n",
      "  -6.08415799e-02 -6.08415799e-02  4.40270562e-02  4.56039189e-02\n",
      "   4.56039189e-02  2.22044605e-16  2.22044605e-16  2.22044605e-16\n",
      "   2.22044605e-16  2.22044605e-16  2.22044605e-16  2.22044605e-16\n",
      "   2.22044605e-16  2.22044605e-16  2.22044605e-16  2.22044605e-16\n",
      "   2.22044605e-16  2.22044605e-16  2.22044605e-16  2.22044605e-16\n",
      "   2.22044605e-16  2.22044605e-16  2.22044605e-16  2.22044605e-16\n",
      "   2.22044605e-16  2.22044605e-16  1.91588224e-02  3.24992137e-02\n",
      "   2.81733317e-02  1.77179415e+00  1.97874003e+00  8.42700809e-01\n",
      "   2.03845178e+00  2.01839884e+00 -2.99615668e-02  4.47098013e-02\n",
      "   4.47098013e-02  2.22044605e-16  2.22044605e-16  2.22044605e-16\n",
      "   2.22044605e-16  2.22044605e-16  2.22044605e-16  2.22044605e-16\n",
      "   2.22044605e-16  2.22044605e-16  2.22044605e-16  2.22044605e-16\n",
      "   2.22044605e-16  2.22044605e-16  2.22044605e-16  2.22044605e-16\n",
      "   2.22044605e-16  2.22044605e-16  2.22044605e-16  2.22044605e-16\n",
      "   2.22044605e-16  2.22044605e-16  1.96058812e-02  1.96058812e-02\n",
      "  -1.24886267e-02  1.77179415e+00  1.97874003e+00  8.42700809e-01\n",
      "   2.03845178e+00  2.01839884e+00 -3.91694094e-02  4.47098013e-02\n",
      "   4.47098013e-02  2.22044605e-16  2.22044605e-16  2.22044605e-16\n",
      "   2.22044605e-16  2.22044605e-16  2.22044605e-16  2.22044605e-16\n",
      "   2.22044605e-16  2.22044605e-16  2.22044605e-16  2.22044605e-16\n",
      "   2.22044605e-16  2.22044605e-16  2.22044605e-16  2.22044605e-16\n",
      "   2.22044605e-16  2.22044605e-16  2.22044605e-16  2.22044605e-16\n",
      "   2.22044605e-16  2.22044605e-16  1.96058812e-02  2.74904689e-01\n",
      "   5.45398806e-01  3.50216480e-01  4.43599611e-01  1.31481181e+00\n",
      "   7.52109034e-01  2.08522742e-01  4.88520773e-01  2.63419209e-01\n",
      "   3.73568605e-02  2.22044605e-16  2.22044605e-16  2.22044605e-16\n",
      "   2.22044605e-16  2.22044605e-16  2.22044605e-16  2.22044605e-16\n",
      "   2.22044605e-16  2.22044605e-16  2.22044605e-16  2.22044605e-16\n",
      "   2.22044605e-16  2.22044605e-16  2.22044605e-16  2.22044605e-16\n",
      "   2.22044605e-16  2.22044605e-16  2.22044605e-16  2.22044605e-16\n",
      "   2.22044605e-16  2.22044605e-16  3.01972531e-02  2.74904689e-01\n",
      "   1.77138941e+00  1.87229453e+00  7.51214932e-01  1.28444552e+00\n",
      "   7.52109034e-01  1.98545256e+00  1.98545256e+00  2.83429787e-01\n",
      "   3.22635275e-02  3.92117624e-03  2.22044605e-16  2.22044605e-16\n",
      "   2.22044605e-16  2.22044605e-16  2.22044605e-16  2.22044605e-16\n",
      "   2.22044605e-16  2.22044605e-16  2.22044605e-16  2.22044605e-16\n",
      "   2.22044605e-16  2.22044605e-16  2.22044605e-16  2.22044605e-16\n",
      "   2.22044605e-16  2.22044605e-16  2.22044605e-16  2.22044605e-16\n",
      "   2.22044605e-16  2.22044605e-16  2.44211750e-02  2.44211750e-02\n",
      "   1.77138941e+00  2.56266787e+00  2.64469218e+00  2.65460080e+00\n",
      "   2.66749414e+00  2.49560317e+00  1.98545256e+00  5.53011732e-02\n",
      "   3.22635275e-02  3.92117624e-03  2.22044605e-16  2.22044605e-16\n",
      "   2.22044605e-16  2.22044605e-16  2.22044605e-16  2.22044605e-16\n",
      "   2.22044605e-16  2.22044605e-16  2.22044605e-16  2.22044605e-16\n",
      "   2.22044605e-16  2.22044605e-16  2.22044605e-16  2.22044605e-16\n",
      "   2.22044605e-16  2.22044605e-16  2.22044605e-16  2.22044605e-16\n",
      "   2.22044605e-16  2.22044605e-16  2.44211750e-02  3.68674488e-02\n",
      "   9.90501902e-02  1.87941176e+00  2.64469218e+00  2.65460080e+00\n",
      "   2.66749414e+00  2.14990589e+00  1.12668621e-01  3.73145076e-02\n",
      "   3.08799982e-02  3.92117624e-03  2.22044605e-16  2.22044605e-16\n",
      "   2.22044605e-16  2.22044605e-16  2.22044605e-16  2.22044605e-16\n",
      "   2.22044605e-16  2.22044605e-16  2.22044605e-16  2.22044605e-16\n",
      "   2.22044605e-16  2.22044605e-16  2.22044605e-16  2.22044605e-16\n",
      "   2.22044605e-16  2.22044605e-16  2.22044605e-16  2.22044605e-16\n",
      "   2.22044605e-16  2.22044605e-16  2.22044605e-16  3.68674488e-02\n",
      "   3.68674488e-02  3.22635275e-02  3.61847037e-02  3.61847037e-02\n",
      "   2.55933318e-02  3.22635275e-02  3.22635275e-02  2.44211750e-02\n",
      "   2.44211750e-02  2.22044605e-16  2.22044605e-16  2.22044605e-16\n",
      "   2.22044605e-16  2.22044605e-16  2.22044605e-16  2.22044605e-16\n",
      "   2.22044605e-16  2.22044605e-16  2.22044605e-16  2.22044605e-16\n",
      "   2.22044605e-16  2.22044605e-16  2.22044605e-16  2.22044605e-16\n",
      "   2.22044605e-16  2.22044605e-16  2.22044605e-16  2.22044605e-16\n",
      "   2.22044605e-16  2.22044605e-16  2.22044605e-16  2.22044605e-16\n",
      "   2.22044605e-16  2.22044605e-16  2.22044605e-16  2.22044605e-16\n",
      "   2.22044605e-16  2.22044605e-16  2.22044605e-16  2.22044605e-16\n",
      "   2.22044605e-16  2.22044605e-16  2.22044605e-16  2.22044605e-16\n",
      "   2.22044605e-16  2.22044605e-16  2.22044605e-16  2.22044605e-16\n",
      "   2.22044605e-16  2.22044605e-16  2.22044605e-16  2.22044605e-16\n",
      "   2.22044605e-16  2.22044605e-16  2.22044605e-16  2.22044605e-16\n",
      "   2.22044605e-16  2.22044605e-16  2.22044605e-16  2.22044605e-16\n",
      "   2.22044605e-16  2.22044605e-16  2.22044605e-16  2.22044605e-16\n",
      "   2.22044605e-16  2.22044605e-16  2.22044605e-16  2.22044605e-16\n",
      "   2.22044605e-16  2.22044605e-16  2.22044605e-16  2.22044605e-16\n",
      "   2.22044605e-16  2.22044605e-16  2.22044605e-16  2.22044605e-16\n",
      "   2.22044605e-16  2.22044605e-16  2.22044605e-16  2.22044605e-16\n",
      "   2.22044605e-16  2.22044605e-16  2.22044605e-16  2.22044605e-16\n",
      "   2.22044605e-16  2.22044605e-16  2.22044605e-16  2.22044605e-16\n",
      "   2.22044605e-16  2.22044605e-16  2.22044605e-16  2.22044605e-16\n",
      "   2.22044605e-16  2.22044605e-16  2.22044605e-16  2.22044605e-16\n",
      "   2.22044605e-16  2.22044605e-16  2.22044605e-16  2.22044605e-16\n",
      "   2.22044605e-16  2.22044605e-16  2.22044605e-16  2.22044605e-16\n",
      "   2.22044605e-16  2.22044605e-16  2.22044605e-16  2.22044605e-16\n",
      "   2.22044605e-16  2.22044605e-16  2.22044605e-16  2.22044605e-16\n",
      "   2.22044605e-16  2.22044605e-16  2.22044605e-16  2.22044605e-16\n",
      "   2.22044605e-16  2.22044605e-16  2.22044605e-16  2.22044605e-16\n",
      "   2.22044605e-16  2.22044605e-16  2.22044605e-16  2.22044605e-16\n",
      "   2.22044605e-16  2.22044605e-16  2.22044605e-16  2.22044605e-16\n",
      "   2.22044605e-16  2.22044605e-16  2.22044605e-16  2.22044605e-16\n",
      "   2.22044605e-16  2.22044605e-16  2.22044605e-16  2.22044605e-16\n",
      "   2.22044605e-16  2.22044605e-16  2.22044605e-16  2.22044605e-16\n",
      "   2.22044605e-16  2.22044605e-16  2.22044605e-16  2.22044605e-16\n",
      "   2.22044605e-16  2.22044605e-16  2.22044605e-16  2.22044605e-16\n",
      "   2.22044605e-16  2.22044605e-16  2.22044605e-16  2.22044605e-16\n",
      "   2.22044605e-16  2.22044605e-16  2.22044605e-16  2.22044605e-16\n",
      "   2.22044605e-16  2.22044605e-16  2.22044605e-16  2.22044605e-16\n",
      "   2.22044605e-16  2.22044605e-16  2.22044605e-16  2.22044605e-16\n",
      "   2.22044605e-16  2.22044605e-16  2.22044605e-16  2.22044605e-16\n",
      "   2.22044605e-16  2.22044605e-16  2.22044605e-16  2.22044605e-16\n",
      "   2.22044605e-16  2.22044605e-16  2.22044605e-16  2.22044605e-16\n",
      "   2.22044605e-16  2.22044605e-16  2.22044605e-16  2.22044605e-16\n",
      "   2.22044605e-16  2.22044605e-16  2.22044605e-16  2.22044605e-16\n",
      "   2.22044605e-16  2.22044605e-16  2.22044605e-16  2.22044605e-16\n",
      "   2.22044605e-16  2.22044605e-16  2.22044605e-16  2.22044605e-16\n",
      "   2.22044605e-16  2.22044605e-16  2.22044605e-16  2.22044605e-16\n",
      "   2.22044605e-16  2.22044605e-16  2.22044605e-16  2.22044605e-16\n",
      "   2.22044605e-16  2.22044605e-16  2.22044605e-16  2.22044605e-16\n",
      "   2.22044605e-16  2.22044605e-16  2.22044605e-16  2.22044605e-16\n",
      "   2.22044605e-16  2.22044605e-16  2.22044605e-16  2.22044605e-16\n",
      "   2.22044605e-16  2.22044605e-16  2.22044605e-16  2.22044605e-16\n",
      "   2.22044605e-16  2.22044605e-16  2.22044605e-16  2.22044605e-16\n",
      "   2.22044605e-16  2.22044605e-16  2.22044605e-16  2.22044605e-16\n",
      "   2.22044605e-16  2.22044605e-16  2.22044605e-16  2.22044605e-16\n",
      "   2.22044605e-16  2.22044605e-16  2.22044605e-16  2.22044605e-16\n",
      "   2.22044605e-16  2.22044605e-16  2.22044605e-16  2.22044605e-16\n",
      "   2.22044605e-16  2.22044605e-16  2.22044605e-16  2.22044605e-16\n",
      "   2.22044605e-16  2.22044605e-16  2.22044605e-16  2.22044605e-16\n",
      "   2.22044605e-16  2.22044605e-16  2.22044605e-16  2.22044605e-16\n",
      "   2.22044605e-16  2.22044605e-16  2.22044605e-16  2.22044605e-16\n",
      "   2.22044605e-16  2.22044605e-16  2.22044605e-16  2.22044605e-16\n",
      "   2.22044605e-16  2.22044605e-16  2.22044605e-16  2.22044605e-16\n",
      "   2.22044605e-16  2.22044605e-16  2.22044605e-16  2.22044605e-16\n",
      "   2.22044605e-16  2.22044605e-16  2.22044605e-16  2.22044605e-16\n",
      "   2.22044605e-16  2.22044605e-16  2.22044605e-16  2.22044605e-16\n",
      "   2.22044605e-16  2.22044605e-16  2.22044605e-16  2.22044605e-16\n",
      "   2.22044605e-16  2.22044605e-16  2.22044605e-16  2.22044605e-16\n",
      "   2.22044605e-16  2.22044605e-16  2.22044605e-16  2.22044605e-16\n",
      "   2.22044605e-16  2.22044605e-16  2.22044605e-16  2.22044605e-16\n",
      "   2.22044605e-16  2.22044605e-16  2.22044605e-16  2.22044605e-16\n",
      "   2.22044605e-16  2.22044605e-16  2.22044605e-16  2.22044605e-16\n",
      "   2.22044605e-16  2.22044605e-16  2.22044605e-16  2.22044605e-16\n",
      "   2.22044605e-16  2.22044605e-16  2.22044605e-16  2.22044605e-16\n",
      "   2.22044605e-16  2.22044605e-16  2.22044605e-16  2.22044605e-16\n",
      "   2.22044605e-16  2.22044605e-16  2.22044605e-16  2.22044605e-16\n",
      "   2.22044605e-16  2.22044605e-16  2.22044605e-16  2.22044605e-16\n",
      "   2.22044605e-16  2.22044605e-16  2.22044605e-16  2.22044605e-16\n",
      "   2.22044605e-16  2.22044605e-16  2.22044605e-16  2.22044605e-16\n",
      "   2.22044605e-16  2.22044605e-16  2.22044605e-16  2.22044605e-16\n",
      "   2.22044605e-16  2.22044605e-16  2.22044605e-16  2.22044605e-16\n",
      "   2.22044605e-16  2.22044605e-16  2.22044605e-16  2.22044605e-16\n",
      "   2.22044605e-16  2.22044605e-16  2.22044605e-16  2.22044605e-16\n",
      "   2.22044605e-16  2.22044605e-16  2.22044605e-16  2.22044605e-16\n",
      "   2.22044605e-16  2.22044605e-16  2.22044605e-16  2.22044605e-16\n",
      "   2.22044605e-16  2.22044605e-16  2.22044605e-16  2.22044605e-16\n",
      "   2.22044605e-16  2.22044605e-16  2.22044605e-16  2.22044605e-16\n",
      "   2.22044605e-16  2.22044605e-16  2.22044605e-16  2.22044605e-16\n",
      "   2.22044605e-16  2.22044605e-16  2.22044605e-16  2.22044605e-16\n",
      "   2.22044605e-16  2.22044605e-16  2.22044605e-16  2.22044605e-16\n",
      "   2.22044605e-16  2.22044605e-16  2.22044605e-16  2.22044605e-16\n",
      "   2.22044605e-16  2.22044605e-16  2.22044605e-16  2.22044605e-16\n",
      "   2.22044605e-16  2.22044605e-16  2.22044605e-16  2.22044605e-16\n",
      "   2.22044605e-16  2.22044605e-16  2.22044605e-16  2.22044605e-16\n",
      "   2.22044605e-16  2.22044605e-16  2.22044605e-16  2.22044605e-16\n",
      "   2.22044605e-16  2.22044605e-16  2.22044605e-16  2.22044605e-16\n",
      "   2.22044605e-16  2.22044605e-16  2.22044605e-16  2.22044605e-16\n",
      "   2.22044605e-16  2.22044605e-16  2.22044605e-16  2.22044605e-16\n",
      "   2.22044605e-16  2.22044605e-16  2.22044605e-16  2.22044605e-16\n",
      "   2.22044605e-16  2.22044605e-16  2.22044605e-16  2.22044605e-16\n",
      "   2.22044605e-16  2.22044605e-16  2.22044605e-16  2.22044605e-16\n",
      "   2.22044605e-16  2.22044605e-16  2.22044605e-16  2.22044605e-16\n",
      "   2.22044605e-16  2.22044605e-16  2.22044605e-16  2.22044605e-16\n",
      "   2.22044605e-16  2.22044605e-16  2.22044605e-16  2.22044605e-16\n",
      "   2.22044605e-16  2.22044605e-16  2.22044605e-16  2.22044605e-16\n",
      "   2.22044605e-16  2.22044605e-16  2.22044605e-16  2.22044605e-16\n",
      "   2.22044605e-16  2.22044605e-16  2.22044605e-16  2.22044605e-16\n",
      "   2.22044605e-16  2.22044605e-16  2.22044605e-16  2.22044605e-16\n",
      "   2.22044605e-16  2.22044605e-16  2.22044605e-16  2.22044605e-16\n",
      "   2.22044605e-16  2.22044605e-16  2.22044605e-16  2.22044605e-16\n",
      "   2.22044605e-16  2.22044605e-16  2.22044605e-16  2.22044605e-16\n",
      "   2.22044605e-16  2.22044605e-16  2.22044605e-16  2.22044605e-16\n",
      "   2.22044605e-16  2.22044605e-16  2.22044605e-16  2.22044605e-16\n",
      "   2.22044605e-16  2.22044605e-16  2.22044605e-16  2.22044605e-16\n",
      "   2.22044605e-16  2.22044605e-16  2.22044605e-16  2.22044605e-16\n",
      "   2.22044605e-16  2.22044605e-16  2.22044605e-16  2.22044605e-16\n",
      "   2.22044605e-16  2.22044605e-16  2.22044605e-16  2.22044605e-16\n",
      "   2.22044605e-16  2.22044605e-16  2.22044605e-16  2.22044605e-16\n",
      "   2.22044605e-16  2.22044605e-16  2.22044605e-16  2.22044605e-16\n",
      "   2.22044605e-16  2.22044605e-16  2.22044605e-16  2.22044605e-16\n",
      "   2.22044605e-16  2.22044605e-16  2.22044605e-16  2.22044605e-16\n",
      "   2.22044605e-16  2.22044605e-16  2.22044605e-16  2.22044605e-16\n",
      "   2.22044605e-16  2.22044605e-16  2.22044605e-16  2.22044605e-16\n",
      "   2.22044605e-16  2.22044605e-16  2.22044605e-16  2.22044605e-16\n",
      "   2.22044605e-16  2.22044605e-16  2.22044605e-16  2.22044605e-16\n",
      "   2.22044605e-16  2.22044605e-16  2.22044605e-16  2.22044605e-16\n",
      "   2.22044605e-16  2.22044605e-16  2.22044605e-16  2.22044605e-16\n",
      "   2.22044605e-16  2.22044605e-16  2.22044605e-16  2.22044605e-16\n",
      "   2.22044605e-16  2.22044605e-16  2.22044605e-16  2.22044605e-16\n",
      "   2.22044605e-16  2.22044605e-16  2.22044605e-16  2.22044605e-16\n",
      "   2.22044605e-16  2.22044605e-16  2.22044605e-16  2.22044605e-16\n",
      "   2.22044605e-16  2.22044605e-16  2.22044605e-16  2.22044605e-16\n",
      "   2.22044605e-16  2.22044605e-16  2.22044605e-16  2.22044605e-16\n",
      "   2.22044605e-16  2.22044605e-16  2.22044605e-16  2.22044605e-16\n",
      "   2.22044605e-16  2.22044605e-16  2.22044605e-16  2.22044605e-16\n",
      "   2.22044605e-16  2.22044605e-16  2.22044605e-16  2.22044605e-16\n",
      "   2.22044605e-16  2.22044605e-16  2.22044605e-16  2.22044605e-16\n",
      "   2.22044605e-16  2.22044605e-16  2.22044605e-16  2.22044605e-16\n",
      "   2.22044605e-16  2.22044605e-16  2.22044605e-16  2.22044605e-16\n",
      "   2.22044605e-16  2.22044605e-16  2.22044605e-16  2.22044605e-16]]\n"
     ]
    }
   ],
   "source": [
    "print(\"Features after conv(x):\\n\", f1)"
   ]
  },
  {
   "cell_type": "code",
   "execution_count": 7,
   "metadata": {},
   "outputs": [
    {
     "name": "stdout",
     "output_type": "stream",
     "text": [
      "Features after conv(T(x)):\n",
      " [[ 2.22044605e-16  2.22044605e-16  2.22044605e-16  2.22044605e-16\n",
      "   2.22044605e-16  2.22044605e-16  2.22044605e-16  2.22044605e-16\n",
      "   2.22044605e-16  2.22044605e-16  2.22044605e-16  2.22044605e-16\n",
      "   2.22044605e-16  2.22044605e-16  2.22044605e-16  2.22044605e-16\n",
      "   2.22044605e-16  2.22044605e-16  2.22044605e-16  2.22044605e-16\n",
      "   2.22044605e-16  2.22044605e-16  2.22044605e-16  2.22044605e-16\n",
      "   2.22044605e-16  2.22044605e-16  2.22044605e-16  2.22044605e-16\n",
      "   2.22044605e-16  2.22044605e-16  2.22044605e-16  2.22044605e-16\n",
      "   2.22044605e-16  2.22044605e-16  2.22044605e-16  2.22044605e-16\n",
      "   2.22044605e-16  2.22044605e-16  2.22044605e-16  2.22044605e-16\n",
      "   2.22044605e-16  2.22044605e-16  2.22044605e-16  2.22044605e-16\n",
      "   2.22044605e-16  2.22044605e-16  2.22044605e-16  2.22044605e-16\n",
      "   2.22044605e-16  2.22044605e-16  2.22044605e-16  2.22044605e-16\n",
      "   2.22044605e-16  2.22044605e-16  2.22044605e-16  2.22044605e-16\n",
      "   2.22044605e-16  2.22044605e-16  2.22044605e-16  2.22044605e-16\n",
      "   2.22044605e-16  2.22044605e-16  2.22044605e-16  2.22044605e-16\n",
      "   2.22044605e-16  2.22044605e-16  2.22044605e-16  2.22044605e-16\n",
      "   2.22044605e-16  2.22044605e-16  2.22044605e-16  2.22044605e-16\n",
      "   2.22044605e-16  2.22044605e-16  2.22044605e-16  2.22044605e-16\n",
      "   2.22044605e-16  2.22044605e-16  2.22044605e-16  2.22044605e-16\n",
      "   2.22044605e-16  2.22044605e-16  2.22044605e-16  2.22044605e-16\n",
      "   2.22044605e-16  2.22044605e-16  2.22044605e-16  2.22044605e-16\n",
      "   2.22044605e-16  2.22044605e-16  2.22044605e-16  2.22044605e-16\n",
      "   2.22044605e-16  2.22044605e-16  2.22044605e-16  2.22044605e-16\n",
      "   2.22044605e-16  2.22044605e-16  2.22044605e-16  2.22044605e-16\n",
      "   2.22044605e-16  2.22044605e-16  2.22044605e-16  2.22044605e-16\n",
      "   2.22044605e-16  2.22044605e-16  2.22044605e-16  2.22044605e-16\n",
      "   2.22044605e-16  2.22044605e-16  2.22044605e-16  2.22044605e-16\n",
      "   2.22044605e-16  2.22044605e-16  2.22044605e-16  2.22044605e-16\n",
      "   2.22044605e-16  2.22044605e-16  2.22044605e-16  2.22044605e-16\n",
      "   2.22044605e-16  2.22044605e-16  2.22044605e-16  2.22044605e-16\n",
      "   2.22044605e-16  2.22044605e-16  2.22044605e-16  2.22044605e-16\n",
      "   2.22044605e-16  2.22044605e-16  2.22044605e-16  2.22044605e-16\n",
      "   2.22044605e-16  2.22044605e-16  2.22044605e-16  2.22044605e-16\n",
      "   2.22044605e-16  2.22044605e-16  2.22044605e-16  2.22044605e-16\n",
      "   2.22044605e-16  2.22044605e-16  2.22044605e-16  2.22044605e-16\n",
      "   2.22044605e-16  2.22044605e-16  2.22044605e-16  2.22044605e-16\n",
      "   2.22044605e-16  2.22044605e-16  2.22044605e-16  2.22044605e-16\n",
      "   2.22044605e-16  2.22044605e-16  2.22044605e-16  2.22044605e-16\n",
      "   2.22044605e-16  2.22044605e-16  2.22044605e-16  2.22044605e-16\n",
      "   2.22044605e-16  2.22044605e-16  2.22044605e-16  2.22044605e-16\n",
      "   2.22044605e-16  2.22044605e-16  2.22044605e-16  2.22044605e-16\n",
      "   2.22044605e-16  2.22044605e-16  2.22044605e-16  2.22044605e-16\n",
      "   2.22044605e-16  2.22044605e-16  2.22044605e-16  2.22044605e-16\n",
      "   2.22044605e-16  2.22044605e-16  2.22044605e-16  2.22044605e-16\n",
      "   2.22044605e-16  2.22044605e-16  2.22044605e-16  2.22044605e-16\n",
      "   2.22044605e-16  2.22044605e-16  2.22044605e-16  2.22044605e-16\n",
      "   2.22044605e-16  2.22044605e-16  2.22044605e-16  2.22044605e-16\n",
      "   2.22044605e-16  2.22044605e-16  2.22044605e-16  2.22044605e-16\n",
      "   2.22044605e-16  2.22044605e-16  2.22044605e-16  2.22044605e-16\n",
      "   2.22044605e-16  2.22044605e-16  2.22044605e-16  2.22044605e-16\n",
      "   2.22044605e-16  2.22044605e-16  2.22044605e-16  2.22044605e-16\n",
      "   2.22044605e-16  2.22044605e-16  2.22044605e-16  2.22044605e-16\n",
      "   2.22044605e-16  2.22044605e-16  2.22044605e-16  2.22044605e-16\n",
      "   2.22044605e-16  2.22044605e-16  2.22044605e-16  2.22044605e-16\n",
      "   2.22044605e-16  2.22044605e-16  2.22044605e-16  2.22044605e-16\n",
      "   2.22044605e-16  2.22044605e-16  2.22044605e-16  2.22044605e-16\n",
      "   2.22044605e-16  2.22044605e-16  2.22044605e-16  2.22044605e-16\n",
      "   2.22044605e-16  2.22044605e-16  2.22044605e-16  2.22044605e-16\n",
      "   2.22044605e-16  2.22044605e-16  2.22044605e-16  2.22044605e-16\n",
      "   2.22044605e-16  2.22044605e-16  2.22044605e-16  2.22044605e-16\n",
      "   2.22044605e-16  2.22044605e-16  2.22044605e-16  2.22044605e-16\n",
      "   2.22044605e-16  2.22044605e-16  2.22044605e-16  2.22044605e-16\n",
      "   2.22044605e-16  2.22044605e-16  2.22044605e-16  2.22044605e-16\n",
      "   2.22044605e-16  2.22044605e-16  2.22044605e-16  2.22044605e-16\n",
      "   2.22044605e-16  2.22044605e-16  2.22044605e-16  2.22044605e-16\n",
      "   2.22044605e-16  2.22044605e-16  2.22044605e-16  2.22044605e-16\n",
      "   2.22044605e-16  2.22044605e-16  2.22044605e-16  2.22044605e-16\n",
      "   2.22044605e-16  2.22044605e-16  2.22044605e-16  2.22044605e-16\n",
      "   2.22044605e-16  2.22044605e-16  2.22044605e-16  2.22044605e-16\n",
      "   2.22044605e-16  2.22044605e-16  2.22044605e-16  2.22044605e-16\n",
      "   2.22044605e-16  2.22044605e-16  2.22044605e-16  2.22044605e-16\n",
      "   2.22044605e-16  2.22044605e-16  2.22044605e-16  2.22044605e-16\n",
      "   2.22044605e-16  2.22044605e-16  2.22044605e-16  2.22044605e-16\n",
      "   2.22044605e-16  2.22044605e-16  2.22044605e-16  2.22044605e-16\n",
      "   2.22044605e-16  2.22044605e-16  2.22044605e-16  2.22044605e-16\n",
      "   2.22044605e-16  2.22044605e-16  2.22044605e-16  2.22044605e-16\n",
      "   2.22044605e-16  2.22044605e-16  2.22044605e-16  2.22044605e-16\n",
      "   2.22044605e-16  2.22044605e-16  2.22044605e-16  2.22044605e-16\n",
      "   2.22044605e-16  2.22044605e-16  2.22044605e-16  2.22044605e-16\n",
      "   2.22044605e-16  2.22044605e-16  2.22044605e-16  2.22044605e-16\n",
      "   2.22044605e-16  2.22044605e-16  2.22044605e-16  2.22044605e-16\n",
      "   2.22044605e-16  2.22044605e-16  2.22044605e-16  2.22044605e-16\n",
      "   2.22044605e-16  2.22044605e-16  2.22044605e-16  2.22044605e-16\n",
      "   2.22044605e-16  2.22044605e-16  2.22044605e-16  2.22044605e-16\n",
      "   2.22044605e-16  2.22044605e-16  2.22044605e-16  2.22044605e-16\n",
      "   2.22044605e-16  2.22044605e-16  2.22044605e-16  2.22044605e-16\n",
      "   2.22044605e-16  2.22044605e-16  2.22044605e-16  2.22044605e-16\n",
      "   2.22044605e-16  2.22044605e-16  2.22044605e-16  2.22044605e-16\n",
      "   2.22044605e-16  2.22044605e-16  2.22044605e-16  2.22044605e-16\n",
      "   2.22044605e-16  2.22044605e-16  2.22044605e-16  2.22044605e-16\n",
      "   2.22044605e-16  2.22044605e-16  2.22044605e-16  2.22044605e-16\n",
      "   2.22044605e-16  2.22044605e-16  2.22044605e-16  2.22044605e-16\n",
      "   2.22044605e-16  2.22044605e-16  2.22044605e-16  2.22044605e-16\n",
      "   2.22044605e-16  2.22044605e-16  2.22044605e-16  2.22044605e-16\n",
      "   2.22044605e-16  2.22044605e-16  2.22044605e-16  2.22044605e-16\n",
      "   2.22044605e-16  2.22044605e-16  2.22044605e-16  2.22044605e-16\n",
      "   2.22044605e-16  2.22044605e-16  2.22044605e-16  2.22044605e-16\n",
      "   2.22044605e-16  2.22044605e-16  2.22044605e-16  2.22044605e-16\n",
      "   2.22044605e-16  2.22044605e-16  2.22044605e-16  2.22044605e-16\n",
      "   2.22044605e-16  2.22044605e-16  2.22044605e-16  2.22044605e-16\n",
      "   2.22044605e-16  2.22044605e-16  2.22044605e-16  2.22044605e-16\n",
      "   2.22044605e-16  2.22044605e-16  2.22044605e-16  2.22044605e-16\n",
      "   2.22044605e-16  2.22044605e-16  2.22044605e-16  2.22044605e-16\n",
      "   2.22044605e-16  2.22044605e-16  2.22044605e-16  2.22044605e-16\n",
      "   2.22044605e-16  2.22044605e-16  2.22044605e-16  2.22044605e-16\n",
      "   2.22044605e-16  2.22044605e-16  2.22044605e-16  2.22044605e-16\n",
      "   2.22044605e-16  2.22044605e-16  2.22044605e-16  2.22044605e-16\n",
      "   2.22044605e-16  2.22044605e-16  2.22044605e-16  2.22044605e-16\n",
      "   2.22044605e-16  2.22044605e-16  2.22044605e-16  2.22044605e-16\n",
      "   2.22044605e-16  2.22044605e-16  2.22044605e-16  2.22044605e-16\n",
      "   2.22044605e-16  2.22044605e-16  2.22044605e-16  2.22044605e-16\n",
      "   2.22044605e-16  2.22044605e-16  2.22044605e-16  2.22044605e-16\n",
      "   2.22044605e-16  2.22044605e-16  2.22044605e-16  2.22044605e-16\n",
      "   2.22044605e-16  2.22044605e-16  2.22044605e-16  2.22044605e-16\n",
      "   2.22044605e-16  2.22044605e-16  2.22044605e-16  2.22044605e-16\n",
      "   2.22044605e-16  2.22044605e-16  2.22044605e-16  2.22044605e-16\n",
      "   2.22044605e-16  2.22044605e-16  2.22044605e-16  2.22044605e-16\n",
      "   2.22044605e-16  2.22044605e-16  2.22044605e-16  2.22044605e-16\n",
      "   2.22044605e-16  2.22044605e-16  2.22044605e-16  2.22044605e-16\n",
      "   2.22044605e-16  2.22044605e-16  2.22044605e-16  2.22044605e-16\n",
      "   2.22044605e-16  2.22044605e-16  2.22044605e-16  2.22044605e-16\n",
      "   2.22044605e-16  2.22044605e-16  2.22044605e-16  2.22044605e-16\n",
      "   2.22044605e-16  2.22044605e-16  2.22044605e-16  2.22044605e-16\n",
      "   2.22044605e-16  2.22044605e-16  2.22044605e-16  2.22044605e-16\n",
      "   2.22044605e-16  2.22044605e-16  2.22044605e-16  2.22044605e-16\n",
      "   2.22044605e-16  2.22044605e-16  2.22044605e-16  2.22044605e-16\n",
      "   2.22044605e-16  2.22044605e-16  2.22044605e-16  2.22044605e-16\n",
      "   2.22044605e-16  2.22044605e-16  2.22044605e-16  2.22044605e-16\n",
      "   2.22044605e-16  2.22044605e-16  2.22044605e-16  2.22044605e-16\n",
      "   2.22044605e-16  2.22044605e-16  2.22044605e-16  2.22044605e-16\n",
      "   2.22044605e-16  2.22044605e-16  2.22044605e-16  2.22044605e-16\n",
      "   2.22044605e-16  2.22044605e-16  2.22044605e-16  2.22044605e-16\n",
      "   2.22044605e-16  2.22044605e-16  2.22044605e-16  2.22044605e-16\n",
      "   2.22044605e-16  2.22044605e-16  2.22044605e-16  2.22044605e-16\n",
      "   2.22044605e-16  2.22044605e-16  2.22044605e-16  2.22044605e-16\n",
      "   2.22044605e-16  2.22044605e-16  2.22044605e-16  2.22044605e-16\n",
      "   2.22044605e-16  2.22044605e-16  2.22044605e-16  2.22044605e-16\n",
      "   2.22044605e-16  2.22044605e-16  2.22044605e-16  2.22044605e-16\n",
      "   2.22044605e-16  2.22044605e-16  2.22044605e-16  2.22044605e-16\n",
      "   2.22044605e-16  2.22044605e-16  2.22044605e-16  2.22044605e-16\n",
      "   2.22044605e-16  2.22044605e-16  2.22044605e-16  2.22044605e-16\n",
      "   2.22044605e-16  2.22044605e-16  2.22044605e-16  2.22044605e-16\n",
      "   2.22044605e-16  2.22044605e-16  2.22044605e-16  2.22044605e-16\n",
      "   2.22044605e-16  2.22044605e-16  2.22044605e-16  2.22044605e-16\n",
      "   2.22044605e-16  2.22044605e-16  2.22044605e-16  2.22044605e-16\n",
      "   2.22044605e-16  2.22044605e-16  2.22044605e-16  2.22044605e-16\n",
      "   2.22044605e-16  2.22044605e-16  2.22044605e-16  2.22044605e-16\n",
      "   2.22044605e-16  2.22044605e-16  1.73039205e-02  1.73039205e-02\n",
      "   2.74901944e-03  1.05913719e-02  1.05913719e-02  1.03556857e-02\n",
      "   1.03556857e-02  8.28941127e-03  1.03556857e-02  1.03556857e-02\n",
      "   2.22044605e-16  2.22044605e-16  2.22044605e-16  2.22044605e-16\n",
      "   2.22044605e-16  2.22044605e-16  2.22044605e-16  2.22044605e-16\n",
      "   2.22044605e-16  2.22044605e-16  2.22044605e-16  2.22044605e-16\n",
      "   2.22044605e-16  2.22044605e-16  2.22044605e-16  2.22044605e-16\n",
      "   2.22044605e-16  2.22044605e-16  2.22044605e-16  2.22044605e-16\n",
      "   2.22044605e-16  2.22044605e-16  1.73039205e-02  2.90250963e-02\n",
      "   1.26576463e-02  1.05913719e-02  1.51952932e-02  1.72615676e-02\n",
      "   1.68568617e-02  8.28941127e-03  1.49596070e-02  3.52482332e-02\n",
      "   3.22635275e-02  2.22044605e-16  2.22044605e-16  2.22044605e-16\n",
      "   2.22044605e-16  2.22044605e-16  2.22044605e-16  2.22044605e-16\n",
      "   2.22044605e-16  2.22044605e-16  2.22044605e-16  2.22044605e-16\n",
      "   2.22044605e-16  2.22044605e-16  2.22044605e-16  2.22044605e-16\n",
      "   2.22044605e-16  2.22044605e-16  2.22044605e-16  2.22044605e-16\n",
      "   2.22044605e-16  2.22044605e-16  2.55509789e-02  2.90250963e-02\n",
      "   2.19078418e-02 -7.66899607e-01  1.33403914e-02  1.33403914e-02\n",
      "  -5.26235263e-03 -4.09203154e-01  2.19501948e-02  3.61847037e-02\n",
      "   3.61847037e-02  2.22044605e-16  2.22044605e-16  2.22044605e-16\n",
      "   2.22044605e-16  2.22044605e-16  2.22044605e-16  2.22044605e-16\n",
      "   2.22044605e-16  2.22044605e-16  2.22044605e-16  2.22044605e-16\n",
      "   2.22044605e-16  2.22044605e-16  2.22044605e-16  2.22044605e-16\n",
      "   2.22044605e-16  2.22044605e-16  2.22044605e-16  2.22044605e-16\n",
      "   2.22044605e-16  2.22044605e-16  2.51039201e-02  2.51039201e-02\n",
      "   2.19078418e-02  1.96759249e-01  2.24654541e-01  4.23654937e-02\n",
      "   2.57153736e-01  1.32274517e-01  3.27105863e-02  4.12356838e-02\n",
      "   3.61847037e-02  2.22044605e-16  2.22044605e-16  2.22044605e-16\n",
      "   2.22044605e-16  2.22044605e-16  2.22044605e-16  2.22044605e-16\n",
      "   2.22044605e-16  2.22044605e-16  2.22044605e-16  2.22044605e-16\n",
      "   2.22044605e-16  2.22044605e-16  2.22044605e-16  2.22044605e-16\n",
      "   2.22044605e-16  2.22044605e-16  2.22044605e-16  2.22044605e-16\n",
      "   2.22044605e-16  2.22044605e-16  2.51039201e-02  2.51039201e-02\n",
      "   4.81529383e-03  1.80013650e+00  1.89760982e+00  8.06280419e-01\n",
      "   1.97526591e+00  1.73447964e+00  3.27105863e-02  3.68674488e-02\n",
      "   2.99192139e-02  2.22044605e-16  2.22044605e-16  2.22044605e-16\n",
      "   2.22044605e-16  2.22044605e-16  2.22044605e-16  2.22044605e-16\n",
      "   2.22044605e-16  2.22044605e-16  2.22044605e-16  2.22044605e-16\n",
      "   2.22044605e-16  2.22044605e-16  2.22044605e-16  2.22044605e-16\n",
      "   2.22044605e-16  2.22044605e-16  2.22044605e-16  2.22044605e-16\n",
      "   2.22044605e-16  2.22044605e-16  2.23549006e-02  3.52905861e-02\n",
      "   1.08342739e-01  1.61149764e+00  1.68685175e+00  1.14432866e+00\n",
      "   1.65637649e+00  1.57043101e+00  4.49211738e-02  3.68674488e-02\n",
      "   3.61847037e-02  2.22044605e-16  2.22044605e-16  2.22044605e-16\n",
      "   2.22044605e-16  2.22044605e-16  2.22044605e-16  2.22044605e-16\n",
      "   2.22044605e-16  2.22044605e-16  2.22044605e-16  2.22044605e-16\n",
      "   2.22044605e-16  2.22044605e-16  2.22044605e-16  2.22044605e-16\n",
      "   2.22044605e-16  2.22044605e-16  2.22044605e-16  2.22044605e-16\n",
      "   2.22044605e-16  2.22044605e-16  2.67231357e-02  1.76023519e-01\n",
      "   1.10859100e+00  1.10859100e+00  6.62073353e-01  1.33514277e+00\n",
      "   4.49991768e-01  1.21167139e+00  1.21167139e+00  2.03429400e-01\n",
      "   3.61847037e-02  2.22044605e-16  2.22044605e-16  2.22044605e-16\n",
      "   2.22044605e-16  2.22044605e-16  2.22044605e-16  2.22044605e-16\n",
      "   2.22044605e-16  2.22044605e-16  2.22044605e-16  2.22044605e-16\n",
      "   2.22044605e-16  2.22044605e-16  2.22044605e-16  2.22044605e-16\n",
      "   2.22044605e-16  2.22044605e-16  2.22044605e-16  2.22044605e-16\n",
      "   2.22044605e-16  2.22044605e-16  2.67231357e-02  2.67231357e-02\n",
      "   1.90589924e+00  2.54306199e+00  2.54306199e+00  2.05268633e+00\n",
      "   2.56889101e+00  2.56889101e+00  1.82713766e+00  1.16589797e-01\n",
      "   3.77615664e-02  2.22044605e-16  2.22044605e-16  2.22044605e-16\n",
      "   2.22044605e-16  2.22044605e-16  2.22044605e-16  2.22044605e-16\n",
      "   2.22044605e-16  2.22044605e-16  2.22044605e-16  2.22044605e-16\n",
      "   2.22044605e-16  2.22044605e-16  2.22044605e-16  2.22044605e-16\n",
      "   2.22044605e-16  2.22044605e-16  2.22044605e-16  2.22044605e-16\n",
      "   2.22044605e-16  2.22044605e-16  2.71701945e-02  2.95145080e-02\n",
      "   8.85555678e-01  2.54306199e+00  2.64954982e+00  2.65852198e+00\n",
      "   2.65852198e+00  2.56889101e+00  9.04436461e-01  3.82509781e-02\n",
      "   3.68674488e-02  2.22044605e-16  2.22044605e-16  2.22044605e-16\n",
      "   2.22044605e-16  2.22044605e-16  2.22044605e-16  2.22044605e-16\n",
      "   2.22044605e-16  2.22044605e-16  2.22044605e-16  2.22044605e-16\n",
      "   2.22044605e-16  2.22044605e-16  2.22044605e-16  2.22044605e-16\n",
      "   2.22044605e-16  2.22044605e-16  2.22044605e-16  2.22044605e-16\n",
      "   2.22044605e-16  2.22044605e-16  2.11827438e-02  3.33933313e-02\n",
      "   5.41713693e-02  1.11538817e-01  6.23544277e-01  7.22872506e-01\n",
      "   5.97993298e-01  1.04143523e-01  5.34462713e-02  3.68674488e-02\n",
      "   3.68674488e-02  2.22044605e-16  2.22044605e-16  2.22044605e-16\n",
      "   2.22044605e-16  2.22044605e-16  2.22044605e-16  2.22044605e-16\n",
      "   2.22044605e-16  2.22044605e-16  2.22044605e-16  2.22044605e-16\n",
      "   2.22044605e-16  2.22044605e-16  2.22044605e-16  2.22044605e-16\n",
      "   2.22044605e-16  2.22044605e-16  2.22044605e-16  2.22044605e-16\n",
      "   2.22044605e-16  2.22044605e-16  2.22044605e-16  2.22044605e-16\n",
      "   2.22044605e-16  2.22044605e-16  2.22044605e-16  2.22044605e-16\n",
      "   2.22044605e-16  2.22044605e-16  2.22044605e-16  2.22044605e-16\n",
      "   2.22044605e-16  2.22044605e-16  2.22044605e-16  2.22044605e-16\n",
      "   2.22044605e-16  2.22044605e-16  2.22044605e-16  2.22044605e-16\n",
      "   2.22044605e-16  2.22044605e-16  2.22044605e-16  2.22044605e-16\n",
      "   2.22044605e-16  2.22044605e-16  2.22044605e-16  2.22044605e-16\n",
      "   2.22044605e-16  2.22044605e-16  2.22044605e-16  2.22044605e-16\n",
      "   2.22044605e-16  2.22044605e-16  2.22044605e-16  2.22044605e-16\n",
      "   2.22044605e-16  2.22044605e-16  2.22044605e-16  2.22044605e-16\n",
      "   2.22044605e-16  2.22044605e-16  2.22044605e-16  2.22044605e-16\n",
      "   2.22044605e-16  2.22044605e-16  2.22044605e-16  2.22044605e-16]]\n"
     ]
    }
   ],
   "source": [
    "print(\"Features after conv(T(x)):\\n\", f2)"
   ]
  },
  {
   "cell_type": "markdown",
   "metadata": {},
   "source": [
    "# Translational Equivariance"
   ]
  },
  {
   "cell_type": "code",
   "execution_count": 8,
   "metadata": {},
   "outputs": [
    {
     "name": "stdout",
     "output_type": "stream",
     "text": [
      "(64, 68)\n"
     ]
    },
    {
     "data": {
      "image/png": "[encoded data removed]",
      "text/plain": [
       "<Figure size 432x288 with 1 Axes>"
      ]
     },
     "metadata": {
      "needs_background": "light"
     },
     "output_type": "display_data"
    }
   ],
   "source": [
    "image1 = mpimg.imread(\"Cat11.png\")\n",
    "image1 = rgb2gray(image1)\n",
    "print(image1.shape)\n",
    "plt.imshow(image1,cmap=\"gray\")\n",
    "plt.show()"
   ]
  },
  {
   "cell_type": "code",
   "execution_count": 9,
   "metadata": {},
   "outputs": [
    {
     "name": "stdout",
     "output_type": "stream",
     "text": [
      "\n",
      "WARNING: The TensorFlow contrib module will not be included in TensorFlow 2.0.\n",
      "For more information, please see:\n",
      "  * https://github.com/tensorflow/community/blob/master/rfcs/20180907-contrib-sunset.md\n",
      "  * https://github.com/tensorflow/addons\n",
      "If you depend on functionality not listed there, please file an issue.\n",
      "\n",
      "Translated image\n"
     ]
    },
    {
     "data": {
      "image/png": "[encoded data removed]",
      "text/plain": [
       "<Figure size 432x288 with 1 Axes>"
      ]
     },
     "metadata": {
      "needs_background": "light"
     },
     "output_type": "display_data"
    },
    {
     "name": "stdout",
     "output_type": "stream",
     "text": [
      "Features after conv(Trans)\n",
      "[[0.00000000e+00 0.00000000e+00 0.00000000e+00 ... 2.22044605e-16\n",
      "  2.22044605e-16 2.22044605e-16]]\n",
      "Features after Trans(conv)\n",
      "[[0.00000000e+00 0.00000000e+00 0.00000000e+00 ... 2.22044605e-16\n",
      "  2.22044605e-16 2.22044605e-16]]\n"
     ]
    }
   ],
   "source": [
    "X = tf.convert_to_tensor(image1)\n",
    "inp1 = tf.reshape(X, [-1, 64,68,1])\n",
    "\n",
    "#------------Conv(Trans)------------------------------------\n",
    "#Translate the image\n",
    "trans1 = tf.contrib.image.translate(inp1,[30,30])\n",
    "\n",
    "#Convolution\n",
    "k = tf.constant([\n",
    "    [-1, -2, -1],\n",
    "    [0, 0, 0],\n",
    "    [1, 2, 1]\n",
    "], dtype=tf.float64)\n",
    "\n",
    "kernel = tf.reshape(k, [3, 3, 1, 1])\n",
    "conv1 = tf.nn.conv2d(trans1, kernel, [1, 1, 1, 1],padding=\"VALID\")\n",
    "fc1 = tf.layers.flatten(conv1)\n",
    "\n",
    "#---------------------Trans(conv)--------------------\n",
    "conv2 = tf.nn.conv2d(inp1, kernel, [1, 2, 2, 1],padding=\"VALID\")\n",
    "#Translate the image\n",
    "trans2 = tf.contrib.image.translate(conv2,[30,30])\n",
    "\n",
    "fc2 = tf.layers.flatten(trans2)\n",
    "\n",
    "sess = tf.Session()\n",
    "init = tf.global_variables_initializer()\n",
    "sess.run(init)\n",
    "print(\"Translated image\")\n",
    "trans_image = sess.run(trans1)\n",
    "new_img = np.reshape(trans_image,[64,68])\n",
    "plt.imshow(new_img,cmap=\"gray\")\n",
    "plt.show()\n",
    "print(\"Features after conv(Trans)\")\n",
    "conv_out1 = sess.run(fc1)\n",
    "print(conv_out1)\n",
    "print(\"Features after Trans(conv)\")\n",
    "conv_out2 = sess.run(fc2)\n",
    "print(conv_out2)\n",
    "sess.close()"
   ]
  },
  {
   "cell_type": "markdown",
   "metadata": {},
   "source": [
    "# Rotational invariance"
   ]
  },
  {
   "cell_type": "code",
   "execution_count": 16,
   "metadata": {},
   "outputs": [
    {
     "name": "stdout",
     "output_type": "stream",
     "text": [
      "(28, 28)\n"
     ]
    },
    {
     "data": {
      "image/png": "[encoded data removed]",
      "text/plain": [
       "<Figure size 144x144 with 1 Axes>"
      ]
     },
     "metadata": {
      "needs_background": "light"
     },
     "output_type": "display_data"
    }
   ],
   "source": [
    "#image = mpimg.imread(\"sobel1.jpg\")\n",
    "image1 = mpimg.imread(\"d111.png\")\n",
    "image1 = rgb2gray(image1)\n",
    "print(image1.shape)\n",
    "plt.figure(figsize = (2,2))\n",
    "plt.imshow(image1,cmap=\"gray\")\n",
    "plt.show()\n"
   ]
  },
  {
   "cell_type": "code",
   "execution_count": 11,
   "metadata": {},
   "outputs": [],
   "source": [
    "#image = mpimg.imread(\"sobel1.jpg\")\n",
    "# image2 = mpimg.imread(\"d333.png\")\n",
    "# image2 = rgb2gray(image2)\n",
    "# print(image2.shape)\n",
    "# plt.figure(figsize = (2,2))\n",
    "# plt.imshow(image2,cmap=\"gray\")\n",
    "# plt.show()\n"
   ]
  },
  {
   "cell_type": "code",
   "execution_count": 17,
   "metadata": {},
   "outputs": [],
   "source": [
    "k = tf.constant([\n",
    "    [1, 1, 1],\n",
    "    [1, 1, 1],\n",
    "    [1, 1, 1]\n",
    "], dtype=tf.float64)\n",
    "#k = tf.constant([[0, -1, 0], [-1, 10, 1],[0,-1, 0]], dtype=tf.float64)\n",
    "kernel = tf.reshape(k, [3, 3, 1, 1])\n",
    "\n",
    "X = tf.convert_to_tensor(image1)\n",
    "inp1 = tf.reshape(X, [-1, 28,28,1])\n",
    "\n",
    "#------------------conv on image---------------------\n",
    "# first Convolutional Layer\n",
    "conv1 = tf.nn.conv2d(inp1, kernel, [1, 2, 2, 1],padding=\"VALID\")\n",
    "\n",
    "# first pooling layer\n",
    "# Max Pooling (down-sampling) with strides of 2 and kernel size of 3\n",
    "pool1 = tf.nn.max_pool(conv1, ksize=[1,3,3,1],strides = [1,2,2,1],padding='VALID')\n",
    "\n",
    "#Flat layer\n",
    "fc1 = tf.layers.flatten(pool1)\n",
    "\n",
    "#---------------------Conv on rotated image------------------\n",
    "# Y = tf.convert_to_tensor(image2)\n",
    "# inp2 = tf.reshape(Y, [-1, 28,28,1])\n",
    "\n",
    "# Rotate the image by 45 degrees\n",
    "import math\n",
    "Y = tf.contrib.image.rotate(image1, math.radians(45))\n",
    "inp2 = tf.reshape(Y, [-1, 28,28,1])\n",
    "\n",
    "# first Convolutional Layer\n",
    "conv2 = tf.nn.conv2d(inp2, kernel, [1, 2, 2, 1],padding=\"VALID\")\n",
    "\n",
    "# first pooling layer\n",
    "# Max Pooling (down-sampling) with strides of 2 and kernel size of 3\n",
    "pool2 = tf.nn.max_pool(conv2, ksize=[1,3,3,1],strides =[1,2,2,1],padding='VALID')\n",
    "\n",
    "#Flat layer\n",
    "fc2 = tf.layers.flatten(pool2)\n"
   ]
  },
  {
   "cell_type": "code",
   "execution_count": 18,
   "metadata": {},
   "outputs": [
    {
     "name": "stdout",
     "output_type": "stream",
     "text": [
      "After convolution:  (1, 13, 13, 1)\n",
      "After max pooling:  (1, 6, 6, 1)\n",
      "Shape of features:  (1, 36)\n",
      "Rotated image\n"
     ]
    },
    {
     "data": {
      "image/png": "[encoded data removed]",
      "text/plain": [
       "<Figure size 144x144 with 1 Axes>"
      ]
     },
     "metadata": {
      "needs_background": "light"
     },
     "output_type": "display_data"
    },
    {
     "name": "stdout",
     "output_type": "stream",
     "text": [
      "After convolution:  (1, 13, 13, 1)\n",
      "After max pooling:  (1, 6, 6, 1)\n",
      "Shape of features:  (1, 36)\n"
     ]
    }
   ],
   "source": [
    "sess = tf.Session()\n",
    "init = tf.global_variables_initializer()\n",
    "sess.run(init)\n",
    "c1 = sess.run(conv1)\n",
    "p1 = sess.run(pool1)\n",
    "f1 = sess.run(fc1)\n",
    "print(\"After convolution: \",c1.shape)\n",
    "print(\"After max pooling: \",p1.shape)\n",
    "print(\"Shape of features: \",f1.shape)\n",
    "print(\"Rotated image\")\n",
    "rot_image = sess.run(Y)\n",
    "rot_image = np.reshape(rot_image, [28,28])\n",
    "plt.figure(figsize = (2,2))\n",
    "plt.imshow(rot_image,cmap=\"gray\")\n",
    "plt.show()\n",
    "c2 = sess.run(conv2)\n",
    "p2 = sess.run(pool2)\n",
    "f2 = sess.run(fc2)\n",
    "print(\"After convolution: \",c2.shape)\n",
    "print(\"After max pooling: \",p2.shape)\n",
    "print(\"Shape of features: \",f2.shape)\n",
    "sess.close()"
   ]
  },
  {
   "cell_type": "code",
   "execution_count": 19,
   "metadata": {},
   "outputs": [
    {
     "name": "stdout",
     "output_type": "stream",
     "text": [
      "Features after conv(x)\n",
      "[[0.3  0.02 0.02 0.02 0.02 0.02 0.29 0.   3.99 3.99 1.55 0.   0.29 0.\n",
      "  5.63 5.63 2.24 0.   0.3  0.   4.76 4.76 3.66 0.   0.3  0.   4.35 4.4\n",
      "  2.29 0.   0.29 0.01 0.31 0.31 0.01 0.  ]]\n"
     ]
    }
   ],
   "source": [
    "print(\"Features after conv(x)\")\n",
    "print(np.round(f1,2))"
   ]
  },
  {
   "cell_type": "code",
   "execution_count": 20,
   "metadata": {},
   "outputs": [
    {
     "name": "stdout",
     "output_type": "stream",
     "text": [
      "Features after conv(Rot(x))\n",
      "[[0.02 0.02 0.01 0.   0.03 0.02 0.02 0.83 3.74 2.53 0.   0.02 0.01 2.45\n",
      "  4.64 5.32 5.32 0.   0.   0.6  3.82 5.6  5.6  0.   0.2  0.   1.15 5.6\n",
      "  5.6  0.05 0.2  0.2  0.   0.   0.05 0.07]]\n"
     ]
    }
   ],
   "source": [
    "print(\"Features after conv(Rot(x))\")\n",
    "print(np.round(f2,2))"
   ]
  },
  {
   "cell_type": "markdown",
   "metadata": {},
   "source": [
    "# "
   ]
  },
  {
   "cell_type": "code",
   "execution_count": null,
   "metadata": {},
   "outputs": [],
   "source": []
  }
 ],
 "metadata": {
  "kernelspec": {
   "display_name": "Python 3",
   "language": "python",
   "name": "python3"
  },
  "language_info": {
   "codemirror_mode": {
    "name": "ipython",
    "version": 3
   },
   "file_extension": ".py",
   "mimetype": "text/x-python",
   "name": "python",
   "nbconvert_exporter": "python",
   "pygments_lexer": "ipython3",
   "version": "3.7.3"
  }
 },
 "nbformat": 4,
 "nbformat_minor": 2
}
