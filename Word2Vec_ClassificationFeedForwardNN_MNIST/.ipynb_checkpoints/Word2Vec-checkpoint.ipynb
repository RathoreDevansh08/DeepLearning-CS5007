{
 "cells": [
  {
   "cell_type": "markdown",
   "metadata": {
    "colab_type": "text",
    "id": "-LP2msu6WNfC",
    "tags": [
     "header"
    ]
   },
   "source": [
    "# <span style='font-size:50px;background-color:yellow;'>&#128201;</span> <font color=\"#004080\"> *Text Classification, Word2Vec (Using Scikit-learn) ::* </font>\n",
    "\n",
    "\n",
    "### (a) : i. 20-newgroup dataset is a collection of newsgroups in 20 topics. Fetch 20-newsgroup dataset --> "
   ]
  },
  {
   "cell_type": "code",
   "execution_count": 0,
   "metadata": {
    "colab": {},
    "colab_type": "code",
    "id": "99G83EETWNfG"
   },
   "outputs": [],
   "source": [
    "#Required packages\n",
    "import numpy as np\n",
    "import matplotlib.pyplot as plt\n",
    "import tensorflow as tf"
   ]
  },
  {
   "cell_type": "code",
   "execution_count": 0,
   "metadata": {
    "colab": {},
    "colab_type": "code",
    "id": "YNuCk7FEWNfR"
   },
   "outputs": [],
   "source": [
    "from sklearn.datasets import fetch_20newsgroups"
   ]
  },
  {
   "cell_type": "code",
   "execution_count": 3,
   "metadata": {
    "colab": {
     "base_uri": "https://localhost:8080/",
     "height": 122
    },
    "colab_type": "code",
    "id": "8MFzymqHWNfY",
    "outputId": "f5a5c076-7a4a-4583-d704-6c3c5eb28ab1"
   },
   "outputs": [
    {
     "name": "stderr",
     "output_type": "stream",
     "text": [
      "Downloading 20news dataset. This may take a few minutes.\n",
      "Downloading dataset from https://ndownloader.figshare.com/files/5975967 (14 MB)\n"
     ]
    },
    {
     "name": "stdout",
     "output_type": "stream",
     "text": [
      "Dataset Size: 18846\n",
      "No. of targets: 20\n",
      "['alt.atheism', 'comp.graphics', 'comp.os.ms-windows.misc', 'comp.sys.ibm.pc.hardware', 'comp.sys.mac.hardware', 'comp.windows.x', 'misc.forsale', 'rec.autos', 'rec.motorcycles', 'rec.sport.baseball', 'rec.sport.hockey', 'sci.crypt', 'sci.electronics', 'sci.med', 'sci.space', 'soc.religion.christian', 'talk.politics.guns', 'talk.politics.mideast', 'talk.politics.misc', 'talk.religion.misc']\n"
     ]
    }
   ],
   "source": [
    "#dataset\n",
    "news_train = fetch_20newsgroups(subset='all')\n",
    "print(\"Dataset Size: {}\".format(len(news_train.data)))\n",
    "print(\"No. of targets: {}\".format(len(news_train.target_names)))\n",
    "print(news_train.target_names)"
   ]
  },
  {
   "cell_type": "code",
   "execution_count": 4,
   "metadata": {
    "colab": {
     "base_uri": "https://localhost:8080/",
     "height": 360
    },
    "colab_type": "code",
    "id": "syyU9NywWNff",
    "outputId": "bf325d27-1c53-42db-816a-738267403075"
   },
   "outputs": [
    {
     "name": "stdout",
     "output_type": "stream",
     "text": [
      "From: Mamatha Devineni Ratnam <mr47+@andrew.cmu.edu>\n",
      "Subject: Pens fans reactions\n",
      "Organization: Post Office, Carnegie Mellon, Pittsburgh, PA\n",
      "Lines: 12\n",
      "NNTP-Posting-Host: po4.andrew.cmu.edu\n",
      "\n",
      "\n",
      "\n",
      "I am sure some bashers of Pens fans are pretty confused about the lack\n",
      "of any kind of posts about the recent Pens massacre of the Devils. Actually,\n",
      "I am  bit puzzled too and a bit relieved. However, I am going to put an end\n",
      "to non-PIttsburghers' relief with a bit of praise for the Pens. Man, they\n",
      "are killing those Devils worse than I thought. Jagr just showed you why\n",
      "he is much better than his regular season stats. He is also a lot\n",
      "fo fun to watch in the playoffs. Bowman should let JAgr have a lot of\n",
      "fun in the next couple of games since the Pens are going to beat the pulp out of Jersey anyway. I was very disappointed not to see the Islanders lose the final\n",
      "regular season game.          PENS RULE!!!\n",
      "\n",
      "\n"
     ]
    }
   ],
   "source": [
    "print(news_train.data[0])"
   ]
  },
  {
   "cell_type": "markdown",
   "metadata": {
    "colab_type": "text",
    "id": "D-J0vZ5BWNfm"
   },
   "source": [
    "### ii. Pre-process the dataset: Convert to lowercase, remove punctuations, symbols, and stopwords. You can use NLTK or any other library of your choice -->"
   ]
  },
  {
   "cell_type": "code",
   "execution_count": 5,
   "metadata": {
    "colab": {
     "base_uri": "https://localhost:8080/",
     "height": 68
    },
    "colab_type": "code",
    "id": "MPpKfyN-WNfo",
    "outputId": "43967fa3-3ba4-4174-89b0-c36a90569307"
   },
   "outputs": [
    {
     "name": "stdout",
     "output_type": "stream",
     "text": [
      "[nltk_data] Downloading package stopwords to /root/nltk_data...\n",
      "[nltk_data]   Unzipping corpora/stopwords.zip.\n"
     ]
    },
    {
     "data": {
      "text/plain": [
       "True"
      ]
     },
     "execution_count": 5,
     "metadata": {
      "tags": []
     },
     "output_type": "execute_result"
    }
   ],
   "source": [
    "import nltk\n",
    "from nltk.tokenize import RegexpTokenizer\n",
    "from nltk.corpus import stopwords\n",
    "nltk.download('stopwords')"
   ]
  },
  {
   "cell_type": "markdown",
   "metadata": {
    "colab_type": "text",
    "id": "1pnrFcRaWNfw"
   },
   "source": [
    "#### NOTE: Stopwords are the most common words in any natural language. For the purpose of analyzing text data and building NLP models, these stopwords might not add much value to the meaning of the document. eg. \"the\", \"is\", \"are\", etc."
   ]
  },
  {
   "cell_type": "code",
   "execution_count": 0,
   "metadata": {
    "colab": {},
    "colab_type": "code",
    "id": "bPhAZw0nWNfy"
   },
   "outputs": [],
   "source": [
    "tokenizer = RegexpTokenizer(r'\\w+')\n",
    "stop_words = stopwords.words('english')\n",
    "\n",
    "news_data = []\n",
    "for news in news_train.data:\n",
    "    tokens = tokenizer.tokenize(news)\n",
    "    tokens = [word.lower() for word in tokens if word not in stop_words]\n",
    "    news_data.append(tokens)"
   ]
  },
  {
   "cell_type": "code",
   "execution_count": 7,
   "metadata": {
    "colab": {
     "base_uri": "https://localhost:8080/",
     "height": 54
    },
    "colab_type": "code",
    "id": "0wiNlVRpWNf5",
    "outputId": "14eacf93-3b76-45de-a712-6ba6da7b8e13"
   },
   "outputs": [
    {
     "name": "stdout",
     "output_type": "stream",
     "text": [
      "['from', 'mamatha', 'devineni', 'ratnam', 'mr47', 'andrew', 'cmu', 'edu', 'subject', 'pens', 'fans', 'reactions', 'organization', 'post', 'office', 'carnegie', 'mellon', 'pittsburgh', 'pa', 'lines', '12', 'nntp', 'posting', 'host', 'po4', 'andrew', 'cmu', 'edu', 'i', 'sure', 'bashers', 'pens', 'fans', 'pretty', 'confused', 'lack', 'kind', 'posts', 'recent', 'pens', 'massacre', 'devils', 'actually', 'i', 'bit', 'puzzled', 'bit', 'relieved', 'however', 'i', 'going', 'put', 'end', 'non', 'pittsburghers', 'relief', 'bit', 'praise', 'pens', 'man', 'killing', 'devils', 'worse', 'i', 'thought', 'jagr', 'showed', 'much', 'better', 'regular', 'season', 'stats', 'he', 'also', 'lot', 'fo', 'fun', 'watch', 'playoffs', 'bowman', 'let', 'jagr', 'lot', 'fun', 'next', 'couple', 'games', 'since', 'pens', 'going', 'beat', 'pulp', 'jersey', 'anyway', 'i', 'disappointed', 'see', 'islanders', 'lose', 'final', 'regular', 'season', 'game', 'pens', 'rule']\n"
     ]
    }
   ],
   "source": [
    "print(news_data[0])"
   ]
  },
  {
   "cell_type": "markdown",
   "metadata": {
    "colab_type": "text",
    "id": "31NFOFbRWNgB"
   },
   "source": [
    "### iii. Convert the words in the dataset to vectors of dimension 100 using Word2Vec. Ignore words whose frequency is less than 10 -->"
   ]
  },
  {
   "cell_type": "code",
   "execution_count": 0,
   "metadata": {
    "colab": {},
    "colab_type": "code",
    "id": "h0C0Jv8dWNgD"
   },
   "outputs": [],
   "source": [
    "from gensim.models import Word2Vec"
   ]
  },
  {
   "cell_type": "code",
   "execution_count": 9,
   "metadata": {
    "colab": {
     "base_uri": "https://localhost:8080/",
     "height": 306
    },
    "colab_type": "code",
    "id": "2JaRnOfJWNgL",
    "outputId": "f09fe5e8-c76c-426b-d063-120fe38b77dd",
    "scrolled": true
   },
   "outputs": [
    {
     "name": "stdout",
     "output_type": "stream",
     "text": [
      "[ 1.2651862   2.509285   -3.4748724   1.8968717   2.0452785   0.27082953\n",
      " -2.2219863  -1.0362071  -2.0523758   1.7089176  -1.9989958  -0.5939587\n",
      " -0.90974265  0.40730122  0.00866417 -1.4069079   1.5833964   1.26735\n",
      "  0.9462906  -0.5394936   0.7567315  -2.3142843  -0.19065142  0.899712\n",
      "  1.3210319  -1.6536337   3.2164474   0.5748069   1.8683102  -0.832837\n",
      " -1.7501574  -2.9202576   0.92806846 -0.08813664  2.5439742  -2.3586292\n",
      "  0.9005675  -0.39212862 -0.4795491  -0.68788016 -2.3119102   0.19927514\n",
      "  0.66843224 -0.43366396 -0.02945749  0.970526   -0.44888845 -0.2530191\n",
      " -1.3060492   0.3733955  -3.3694131   2.3700006  -1.1844215   1.4713212\n",
      "  0.39142057 -0.56747526 -1.2736981  -1.6422358   0.26211524 -0.47420895\n",
      "  0.16104287 -1.9032195  -0.83231705  0.97273856  0.9005385  -2.7717183\n",
      "  2.8151042  -1.3535846   1.2887044   0.45604843 -2.0890844   1.1005219\n",
      " -0.3441311  -0.23761474  0.3957832  -0.48696265  1.0586551   2.509569\n",
      "  1.6532441  -0.80267274 -0.95967853  1.580669    1.350339   -0.87733376\n",
      "  1.3658156   0.6026358   0.91075814 -0.16280702 -2.0563588   0.20685062\n",
      "  0.887513    0.68414813 -1.1231492  -0.5026245  -0.6218191   0.98615766\n",
      "  0.31002837 -0.23351282  0.42624742 -2.6258638 ]\n"
     ]
    }
   ],
   "source": [
    "#creating model for word2vec\n",
    "model = Word2Vec(news_data, min_count=10, size = 100, workers=4)\n",
    "print(model.wv['computer'])"
   ]
  },
  {
   "cell_type": "markdown",
   "metadata": {
    "colab_type": "text",
    "id": "KLs6vFDuWNgS"
   },
   "source": [
    "### iv. Find the vocabulary size -->"
   ]
  },
  {
   "cell_type": "code",
   "execution_count": 10,
   "metadata": {
    "colab": {
     "base_uri": "https://localhost:8080/",
     "height": 34
    },
    "colab_type": "code",
    "id": "RVwl0ZjdWNgV",
    "outputId": "3e9fc241-6cd0-4a98-f3db-6ca938f07e63"
   },
   "outputs": [
    {
     "name": "stdout",
     "output_type": "stream",
     "text": [
      "Vocabulary Size: 27110\n"
     ]
    }
   ],
   "source": [
    "print(\"Vocabulary Size: {}\".format(len(model.wv.vocab)))"
   ]
  },
  {
   "cell_type": "markdown",
   "metadata": {
    "colab_type": "text",
    "id": "kBBOj9r-WNgd"
   },
   "source": [
    "### v. Find the most similar words in the corpus to the word “car” along with their similarities -->"
   ]
  },
  {
   "cell_type": "code",
   "execution_count": 11,
   "metadata": {
    "colab": {
     "base_uri": "https://localhost:8080/",
     "height": 105
    },
    "colab_type": "code",
    "id": "srMlPn_pWNgf",
    "outputId": "77382a94-c232-45be-9bae-952922306cda"
   },
   "outputs": [
    {
     "name": "stdout",
     "output_type": "stream",
     "text": [
      "Most Similar Words to 'car': \n",
      " [('dealer', 0.8157976269721985), ('motorcycle', 0.7979011535644531), ('tires', 0.7910873889923096), ('owner', 0.7822966575622559), ('odometer', 0.7718130350112915), ('bike', 0.7713936567306519), ('cars', 0.7683661580085754), ('mechanic', 0.7503621578216553), ('bikes', 0.7458271384239197), ('engine', 0.7356276512145996)]\n"
     ]
    },
    {
     "name": "stderr",
     "output_type": "stream",
     "text": [
      "/usr/local/lib/python3.6/dist-packages/gensim/matutils.py:737: FutureWarning: Conversion of the second argument of issubdtype from `int` to `np.signedinteger` is deprecated. In future, it will be treated as `np.int64 == np.dtype(int).type`.\n",
      "  if np.issubdtype(vec.dtype, np.int):\n"
     ]
    }
   ],
   "source": [
    "print(\"Most Similar Words to 'car': \\n {}\".format(model.wv.most_similar('car')))"
   ]
  },
  {
   "cell_type": "markdown",
   "metadata": {
    "colab_type": "text",
    "id": "ELHcSQPpWNgm"
   },
   "source": [
    "### vi. Find the top 5 words similar to the following operations -->\n",
    "    • girl + father - boy\n",
    "    • sports - bat + ball"
   ]
  },
  {
   "cell_type": "code",
   "execution_count": 12,
   "metadata": {
    "colab": {
     "base_uri": "https://localhost:8080/",
     "height": 105
    },
    "colab_type": "code",
    "id": "DqB5kcauWNgp",
    "outputId": "3fd59132-c249-4fe6-904c-9714f8522633"
   },
   "outputs": [
    {
     "name": "stdout",
     "output_type": "stream",
     "text": [
      "Most Similar Words to 'girl + father - boy': \n",
      " [('son', 0.8715537190437317), ('mother', 0.7935481667518616), ('righteousness', 0.7692177295684814), ('hath', 0.7539689540863037), ('jehovah', 0.753835916519165), ('spirit', 0.7505114674568176), ('holy', 0.748466968536377), ('lord', 0.7471218109130859), ('flesh', 0.7438676953315735), ('elohim', 0.7437334060668945)]\n"
     ]
    },
    {
     "name": "stderr",
     "output_type": "stream",
     "text": [
      "/usr/local/lib/python3.6/dist-packages/gensim/matutils.py:737: FutureWarning: Conversion of the second argument of issubdtype from `int` to `np.signedinteger` is deprecated. In future, it will be treated as `np.int64 == np.dtype(int).type`.\n",
      "  if np.issubdtype(vec.dtype, np.int):\n"
     ]
    }
   ],
   "source": [
    "print(\"Most Similar Words to 'girl + father - boy': \\n {}\".format(model.wv.most_similar(positive=['girl', 'father'], negative=['boy'])))"
   ]
  },
  {
   "cell_type": "code",
   "execution_count": 13,
   "metadata": {
    "colab": {
     "base_uri": "https://localhost:8080/",
     "height": 105
    },
    "colab_type": "code",
    "id": "6b5Wa1FgWNg3",
    "outputId": "191807e7-807f-436c-c92a-ab5fb643fa77"
   },
   "outputs": [
    {
     "name": "stdout",
     "output_type": "stream",
     "text": [
      "Most Similar Words to 'sports - bat + ball': \n",
      " [('coverage', 0.7536551356315613), ('arena', 0.7503229379653931), ('abc', 0.7286982536315918), ('ranger', 0.7210960388183594), ('canadian', 0.7185207605361938), ('spring', 0.7024203538894653), ('franchise', 0.6971297264099121), ('league', 0.6947908997535706), ('rally', 0.6901456713676453), ('town', 0.6900096535682678)]\n"
     ]
    },
    {
     "name": "stderr",
     "output_type": "stream",
     "text": [
      "/usr/local/lib/python3.6/dist-packages/gensim/matutils.py:737: FutureWarning: Conversion of the second argument of issubdtype from `int` to `np.signedinteger` is deprecated. In future, it will be treated as `np.int64 == np.dtype(int).type`.\n",
      "  if np.issubdtype(vec.dtype, np.int):\n"
     ]
    }
   ],
   "source": [
    "print(\"Most Similar Words to 'sports - bat + ball': \\n {}\".format(model.wv.most_similar(positive=['sports', 'ball'], negative=['bat'])))"
   ]
  },
  {
   "cell_type": "markdown",
   "metadata": {
    "colab_type": "text",
    "id": "OKypgTJ8WNhA"
   },
   "source": [
    "### vii. Create a TSNE plot for the top 20 words similar to each of the words [‘baseball’, ‘software’,‘police’, ‘government’, ‘circuit’, ‘car’] -->"
   ]
  },
  {
   "cell_type": "markdown",
   "metadata": {
    "colab_type": "text",
    "id": "J1y1Pa3WWNhC"
   },
   "source": [
    "#### NOTE: t-SNE [1] is a tool to visualize high-dimensional data. It converts similarities between data points to joint probabilities and tries to minimize the Kullback-Leibler divergence between the joint probabilities of the low-dimensional embedding and the high-dimensional data. t-SNE has a cost function that is not convex, i.e. with different initializations we can get different results."
   ]
  },
  {
   "cell_type": "code",
   "execution_count": 14,
   "metadata": {
    "colab": {
     "base_uri": "https://localhost:8080/",
     "height": 88
    },
    "colab_type": "code",
    "id": "mYMiMvQIWNhE",
    "outputId": "827de2a0-4759-490e-f6c0-761a0a6bef26"
   },
   "outputs": [
    {
     "name": "stdout",
     "output_type": "stream",
     "text": [
      "['nhl', 'hockey', 'stats', 'players', 'playoff', 'espn', 'football', 'braves', 'teams', 'fans', 'league', 'talent', 'coverage', 'game', 'sportschannel', 'playoffs', 'team', 'player', 'games', 'franchise', 'cdrom', 'nextstep', 'network', 'hardware', 'macintosh', 'platform', 'vendor', 'developer', 'packages', 'machines', 'vendors', 'multimedia', 'developers', 'pcs', 'documentation', 'package', 'packet', 'applications', 'celp', 'bundled', 'officers', 'federal', 'cops', 'legislature', 'officials', 'guns', 'guard', 'weapons', 'gun', 'concealed', 'departments', 'legislation', 'lawyers', 'illegally', 'officer', 'firearms', 'ban', 'sheriff', 'arms', 'tax', 'federal', 'citizen', 'agreement', 'nsa', 'citizens', 'intervention', 'legitimate', 'regulation', 'democracy', 'agencies', 'governments', 'constitutional', 'administration', 'agency', 'interests', 'funds', 'aclu', 'freedom', 'diplomatic', 'protecting', 'transmitter', 'amp', 'signals', 'inputs', 'analog', 'circuits', 'components', 'input', 'recording', 'receiver', 'signal', 'filter', 'connections', 'cables', 'storage', 'rs232', 'wiring', 'switches', 'resistor', 'amplifier', 'dealer', 'motorcycle', 'tires', 'owner', 'odometer', 'bike', 'cars', 'mechanic', 'bikes', 'engine', 'toyota', 'tire', 'convertible', 'nissan', 'buying', 'dealership', 'shop', 'truck', 'driving', 'replaced']\n"
     ]
    },
    {
     "name": "stderr",
     "output_type": "stream",
     "text": [
      "/usr/local/lib/python3.6/dist-packages/gensim/matutils.py:737: FutureWarning: Conversion of the second argument of issubdtype from `int` to `np.signedinteger` is deprecated. In future, it will be treated as `np.int64 == np.dtype(int).type`.\n",
      "  if np.issubdtype(vec.dtype, np.int):\n"
     ]
    }
   ],
   "source": [
    "lst = ['baseball', 'software', 'police', 'government', 'circuit', 'car']\n",
    "plt_lst = []\n",
    "\n",
    "for word in lst:\n",
    "    simwrd = [tpl[0] for tpl in model.wv.most_similar(word, topn=20)]\n",
    "    plt_lst+=simwrd\n",
    "\n",
    "print(plt_lst)"
   ]
  },
  {
   "cell_type": "code",
   "execution_count": 0,
   "metadata": {
    "colab": {},
    "colab_type": "code",
    "id": "PRjyq6NZWNhM"
   },
   "outputs": [],
   "source": [
    "from sklearn.manifold import TSNE"
   ]
  },
  {
   "cell_type": "code",
   "execution_count": 0,
   "metadata": {
    "colab": {},
    "colab_type": "code",
    "id": "Xd6me8dKWNhV"
   },
   "outputs": [],
   "source": [
    "vectors = []\n",
    "\n",
    "for word in plt_lst:\n",
    "    vectors.append(model.wv[word])\n",
    "    \n",
    "#applying pca, changing to bi-dimensional vectors\n",
    "tsne_model = TSNE(perplexity=10, n_components=2, init='pca', n_iter=5000)\n",
    "new_vectors = tsne_model.fit_transform(vectors)"
   ]
  },
  {
   "cell_type": "code",
   "execution_count": 17,
   "metadata": {
    "colab": {
     "base_uri": "https://localhost:8080/",
     "height": 1000
    },
    "colab_type": "code",
    "id": "xjrABk3KWNhc",
    "outputId": "85b0f424-bfb5-4c63-c2ed-21e6f8041542"
   },
   "outputs": [
    {
     "name": "stdout",
     "output_type": "stream",
     "text": [
      "[[ 3.68055534e+01  6.42711945e+01]\n",
      " [ 3.17709160e+01  7.00586853e+01]\n",
      " [ 2.62962399e+01  5.26290169e+01]\n",
      " [ 4.72537308e+01  6.68112717e+01]\n",
      " [ 3.27871513e+01  5.77296638e+01]\n",
      " [ 3.60391006e+01  4.75245094e+01]\n",
      " [ 1.59624510e+01  4.01046448e+01]\n",
      " [ 3.57214584e+01  5.21828346e+01]\n",
      " [ 4.26258850e+01  6.48444672e+01]\n",
      " [ 4.13336678e+01  4.54835701e+01]\n",
      " [ 3.99519386e+01  7.20639267e+01]\n",
      " [ 2.13014011e+01  4.31496811e+01]\n",
      " [ 1.61463165e+01  4.79811668e+01]\n",
      " [ 4.92681618e+01  5.44515495e+01]\n",
      " [ 7.95376360e-01  3.08348579e+01]\n",
      " [ 3.96539116e+01  5.50286369e+01]\n",
      " [ 4.74455948e+01  7.39787140e+01]\n",
      " [ 2.54926662e+01  6.19078636e+01]\n",
      " [ 5.12141838e+01  6.06756172e+01]\n",
      " [ 1.18946495e+01  3.76578064e+01]\n",
      " [ 9.26016617e+01 -1.53375998e+01]\n",
      " [ 7.16926422e+01 -2.05665989e+01]\n",
      " [ 1.04062759e+02 -3.43352852e+01]\n",
      " [ 1.18056335e+02 -2.19934959e+01]\n",
      " [ 1.06862411e+02 -2.50274391e+01]\n",
      " [ 9.16296997e+01 -2.55111809e+01]\n",
      " [ 9.71815720e+01 -2.98904629e+01]\n",
      " [ 7.78012924e+01 -2.83450718e+01]\n",
      " [ 1.07242081e+02 -1.68416748e+01]\n",
      " [ 1.12683304e+02 -2.83295403e+01]\n",
      " [ 8.93683472e+01 -3.02885590e+01]\n",
      " [ 9.67401047e+01 -2.17433739e+01]\n",
      " [ 8.34379272e+01 -2.61227913e+01]\n",
      " [ 8.74394150e+01 -2.07046528e+01]\n",
      " [ 1.02155342e+02 -1.34977922e+01]\n",
      " [ 1.07721672e+02 -8.31519699e+00]\n",
      " [ 9.52945709e+01 -3.66792221e+01]\n",
      " [ 1.13684448e+02 -1.61329727e+01]\n",
      " [ 6.99651489e+01 -2.51619358e+01]\n",
      " [ 7.84115829e+01 -2.29827080e+01]\n",
      " [-3.20051155e+01  6.62725830e+01]\n",
      " [-7.09879684e+01  7.03245163e+01]\n",
      " [-2.22742901e+01  5.92590637e+01]\n",
      " [-5.56896877e+00  2.99259205e+01]\n",
      " [-3.88365631e+01  6.32842827e+01]\n",
      " [-1.85249786e+01  6.54959412e+01]\n",
      " [-2.53935585e+01  5.05810928e+01]\n",
      " [-7.33070526e+01  5.31035614e+01]\n",
      " [-1.54184942e+01  7.03807678e+01]\n",
      " [-3.65981636e+01  4.84098549e+01]\n",
      " [-1.68829517e+01  4.06373672e+01]\n",
      " [-3.61356926e+01  3.45353317e+01]\n",
      " [-2.54435883e+01  4.29819298e+01]\n",
      " [-1.59955988e+01  3.52382317e+01]\n",
      " [-3.49466820e+01  5.96140175e+01]\n",
      " [-6.87618103e+01  5.22595177e+01]\n",
      " [-4.21185150e+01  4.84503326e+01]\n",
      " [-7.99411345e+00  3.48615761e+01]\n",
      " [-3.36111374e+01  7.37848969e+01]\n",
      " [-4.01758652e+01  2.05331955e+01]\n",
      " [-7.09879684e+01  7.03245163e+01]\n",
      " [-4.94615631e+01  5.25662727e+01]\n",
      " [-4.87937546e+01  3.13784370e+01]\n",
      " [-5.56687241e+01  7.45057678e+01]\n",
      " [-5.88750687e+01  5.48374863e+01]\n",
      " [-4.36019974e+01  3.99581718e+01]\n",
      " [-5.79834213e+01  3.30303841e+01]\n",
      " [-3.72783585e+01  4.11114616e+01]\n",
      " [-4.44402962e+01  3.52695999e+01]\n",
      " [-6.08212624e+01  7.16729660e+01]\n",
      " [-5.89991035e+01  4.79538078e+01]\n",
      " [-5.86186485e+01  3.89364662e+01]\n",
      " [-4.74418564e+01  7.15554047e+01]\n",
      " [-5.65311012e+01  6.61320496e+01]\n",
      " [-5.33154945e+01  4.45531158e+01]\n",
      " [-3.88879204e+01  2.63056736e+01]\n",
      " [-2.94295731e+01  3.72457237e+01]\n",
      " [-6.52557297e+01  3.30897865e+01]\n",
      " [-2.11941223e+01  3.53681145e+01]\n",
      " [-4.93052826e+01  4.09712219e+01]\n",
      " [ 5.66587982e+01 -4.49856491e+01]\n",
      " [ 2.94762630e+01 -4.41085892e+01]\n",
      " [ 4.03438454e+01 -5.79833755e+01]\n",
      " [ 4.53851624e+01 -4.38472939e+01]\n",
      " [ 3.86140060e+01 -4.55611877e+01]\n",
      " [ 4.40366211e+01 -5.14728470e+01]\n",
      " [ 4.59669151e+01 -5.92169952e+01]\n",
      " [ 2.70284424e+01 -5.36404762e+01]\n",
      " [ 6.10870819e+01 -4.21273537e+01]\n",
      " [ 5.88054810e+01 -5.27301903e+01]\n",
      " [ 3.26370621e+01 -5.78521042e+01]\n",
      " [ 5.11100540e+01 -4.92136612e+01]\n",
      " [ 5.32106094e+01 -3.42559319e+01]\n",
      " [ 4.55607452e+01 -3.22500877e+01]\n",
      " [ 5.45052109e+01 -5.84128265e+01]\n",
      " [ 5.91855087e+01 -3.41862411e+01]\n",
      " [ 4.27344513e+01 -6.72855225e+01]\n",
      " [ 4.10410500e+01 -3.72582016e+01]\n",
      " [ 4.83296928e+01 -3.99761696e+01]\n",
      " [ 5.48583221e+01 -3.96231613e+01]\n",
      " [-1.05468254e+01 -4.19540739e+00]\n",
      " [-8.52093279e-01 -8.85464859e+00]\n",
      " [ 1.52006960e+01 -1.43969984e+01]\n",
      " [-4.19373417e+00  7.53510118e-01]\n",
      " [ 6.42381287e+00  1.26551952e+01]\n",
      " [-6.02918305e-02 -2.15801086e+01]\n",
      " [ 9.02945995e+00 -2.33204803e+01]\n",
      " [ 1.54509079e+00  1.51883869e+01]\n",
      " [ 6.93779278e+00 -1.66330204e+01]\n",
      " [ 1.86989002e+01 -2.91509590e+01]\n",
      " [ 8.08701038e+00 -9.39689159e+00]\n",
      " [ 1.83710823e+01 -1.14096489e+01]\n",
      " [ 4.49293709e+00  1.08089221e+00]\n",
      " [ 7.02616549e+00 -2.89776206e+00]\n",
      " [-8.48755550e+00 -1.07445469e+01]\n",
      " [ 3.16365647e+00  1.92873631e+01]\n",
      " [-4.42385644e-01  7.44838524e+00]\n",
      " [ 1.85995560e+01 -4.94293547e+00]\n",
      " [ 2.40759945e+01 -2.37130117e+00]\n",
      " [ 1.28125677e+01  3.80610323e+00]]\n"
     ]
    }
   ],
   "source": [
    "print(new_vectors)"
   ]
  },
  {
   "cell_type": "code",
   "execution_count": 18,
   "metadata": {
    "colab": {
     "base_uri": "https://localhost:8080/",
     "height": 607
    },
    "colab_type": "code",
    "id": "YA09YLoXWNhk",
    "outputId": "07cb13f0-7c7f-408a-a316-50b75b9f2334"
   },
   "outputs": [
    {
     "data": {
      "image/png": "[encoded data removed]",
      "text/plain": [
       "<Figure size 1440x720 with 1 Axes>"
      ]
     },
     "metadata": {
      "tags": []
     },
     "output_type": "display_data"
    }
   ],
   "source": [
    "clr = ['m', 'b', 'c', 'g', 'r', 'y']\n",
    "\n",
    "col=-1\n",
    "j=0\n",
    "#plotting the similar words\n",
    "plt.figure(figsize=(20, 10)) \n",
    "plt.title(\"TSNE visualization of similar words\")\n",
    "for i in new_vectors:\n",
    "    if((j%20)==0):\n",
    "        col=col+1\n",
    "        plt.scatter(i[0],i[1],c=clr[col],label=lst[col])\n",
    "    else:\n",
    "        plt.scatter(i[0],i[1],c=clr[col])\n",
    "    plt.annotate(plt_lst[j],\n",
    "                 xy=(i[0], i[1]),\n",
    "                 va='bottom')\n",
    "    j=j+1\n",
    "plt.legend()\n",
    "plt.show()"
   ]
  },
  {
   "cell_type": "markdown",
   "metadata": {
    "colab_type": "text",
    "id": "XWbo0B1SWNhz"
   },
   "source": [
    "### viii. The dataset consists of documents. Each document is a datapoint. Formulate a methodology to represent each document as a vector using the word vectors. Mention the method employed to create the vector representation of the documents -->"
   ]
  },
  {
   "cell_type": "markdown",
   "metadata": {
    "colab_type": "raw",
    "id": "V2wmie-DWNh2"
   },
   "source": [
    "To represent each document as a vector using word vectors, a method could be to break the document into different sentences and find an average of all the vectors of useful words in a sentence to derive vector for each sentence. And then using those vectors of each sentence, we can find the vector representation of the given document by finding weighted average of vector of sentences. These weights could be expression of length of a sentence, mode of frequency of a word in sentence, etc."
   ]
  },
  {
   "cell_type": "markdown",
   "metadata": {
    "colab_type": "text",
    "id": "tHx_GH7pWNh7"
   },
   "source": [
    "<br><br><br><br><br>\n",
    "### (b) i. Split the dataset into training (70%), validation(10%) and testing(20%) data -->"
   ]
  },
  {
   "cell_type": "code",
   "execution_count": 0,
   "metadata": {
    "colab": {},
    "colab_type": "code",
    "id": "ei60k1yqWNh-"
   },
   "outputs": [],
   "source": [
    "#methods : skip-gram, bag_of_words\n",
    "\n",
    "model1 = Word2Vec(news_data, min_count=10, size=100, workers=4, sg=0)  #BOW\n",
    "model2 = Word2Vec(news_data, min_count=10, size=100, workers=4, sg=1)  #SG\n",
    "\n",
    "vector1 = model1.wv\n",
    "vector2 = model2.wv"
   ]
  },
  {
   "cell_type": "code",
   "execution_count": 20,
   "metadata": {
    "colab": {
     "base_uri": "https://localhost:8080/",
     "height": 34
    },
    "colab_type": "code",
    "id": "iRkPGMU0WNiE",
    "outputId": "c7063ca2-767d-4709-9e0d-6bc73a0653bb"
   },
   "outputs": [
    {
     "name": "stdout",
     "output_type": "stream",
     "text": [
      "Training data size : 13192\n"
     ]
    }
   ],
   "source": [
    "X_train = news_data[ : int(0.7*len(news_data))]\n",
    "Y_train = np.array(news_train.target[ : int(0.7*len(news_data))])\n",
    "X_test = news_data[int(0.7*len(news_data)):int(0.9*len(news_data))]\n",
    "Y_test = np.array(news_train.target[int(0.7*len(news_data)):int(0.9*len(news_data))])\n",
    "X_val = news_data[int(0.9*len(news_data)) : ]\n",
    "Y_val = np.array(news_train.target[int(0.9*len(news_data)) : ])\n",
    "\n",
    "print(\"Training data size : {}\".format(len(X_train)))"
   ]
  },
  {
   "cell_type": "code",
   "execution_count": 0,
   "metadata": {
    "colab": {},
    "colab_type": "code",
    "id": "Lo-pU0DnWNiK"
   },
   "outputs": [],
   "source": []
  },
  {
   "cell_type": "code",
   "execution_count": 0,
   "metadata": {
    "colab": {},
    "colab_type": "code",
    "id": "wI4DH4gxWNiR"
   },
   "outputs": [],
   "source": [
    "# For BOW (model1)\n",
    "\n",
    "X_train1 = np.zeros((len(X_train), 100))\n",
    "j=0\n",
    "for vec in X_train:\n",
    "    now = 0\n",
    "    for word in vec:\n",
    "        if word in vector1:\n",
    "            X_train1[j] = X_train1[j] + vector1[word]\n",
    "            now = now + 1\n",
    "    \n",
    "    X_train1[j] = X_train1[j] / now     #averaging\n",
    "    j = j + 1\n",
    "\n",
    "    \n",
    "X_test1 = np.zeros((len(X_test), 100))\n",
    "j=0\n",
    "for vec in X_test:\n",
    "    now = 0\n",
    "    for word in vec:\n",
    "        if word in vector1:\n",
    "            X_test1[j] = X_test1[j] + vector1[word]\n",
    "            now = now + 1\n",
    "    \n",
    "    X_test1[j] = X_test1[j] / now\n",
    "    j = j + 1\n",
    "    \n",
    "    \n",
    "X_val1 = np.zeros((len(X_val), 100))\n",
    "j=0\n",
    "for vec in X_val:\n",
    "    now = 0\n",
    "    for word in vec:\n",
    "        if word in vector1:\n",
    "            X_val1[j] = X_val1[j] + vector1[word]\n",
    "            now = now + 1\n",
    "    \n",
    "    X_val1[j] =X_val1[j] / now\n",
    "    j = j + 1\n",
    "    \n",
    "    \n",
    "# ------------------------------------------------------------------------------------    \n",
    "# For SG (model2)\n",
    "\n",
    "X_train2 = np.zeros((len(X_train), 100))\n",
    "j=0\n",
    "for vec in X_train:\n",
    "    now = 0\n",
    "    for word in vec:\n",
    "        if word in vector2:\n",
    "            X_train2[j] = X_train2[j] + vector2[word]\n",
    "            now = now + 1\n",
    "    \n",
    "    X_train2[j] = X_train2[j] / now     #averaging\n",
    "    j = j + 1\n",
    "\n",
    "    \n",
    "X_test2 = np.zeros((len(X_test), 100))\n",
    "j=0\n",
    "for vec in X_test:\n",
    "    now = 0\n",
    "    for word in vec:\n",
    "        if word in vector2:\n",
    "            X_test2[j] = X_test2[j] + vector2[word]\n",
    "            now = now + 1\n",
    "    \n",
    "    X_test2[j] = X_test2[j] / now\n",
    "    j = j + 1\n",
    "    \n",
    "    \n",
    "X_val2 = np.zeros((len(X_val), 100))\n",
    "j=0\n",
    "for vec in X_val:\n",
    "    now = 0\n",
    "    for word in vec:\n",
    "        if word in vector2:\n",
    "            X_val2[j] = X_val2[j] + vector2[word]\n",
    "            now = now + 1\n",
    "    \n",
    "    X_val2[j] = X_val2[j] / now\n",
    "    j = j + 1"
   ]
  },
  {
   "cell_type": "code",
   "execution_count": 22,
   "metadata": {
    "colab": {
     "base_uri": "https://localhost:8080/",
     "height": 34
    },
    "colab_type": "code",
    "id": "bRKhnjyKWNiY",
    "outputId": "0c7d9db3-9c0f-4546-892c-ba22b886b8fd"
   },
   "outputs": [
    {
     "name": "stdout",
     "output_type": "stream",
     "text": [
      "[10  3 17 ...  5  5  7]\n"
     ]
    }
   ],
   "source": [
    "print(Y_train)"
   ]
  },
  {
   "cell_type": "markdown",
   "metadata": {
    "colab_type": "text",
    "id": "zhCnTDEIWNig"
   },
   "source": [
    "### ii. Plot the loss vs iteration curve, classification error vs iteration curve, classification accuracy vs iteration curve for training data and report your observations -->"
   ]
  },
  {
   "cell_type": "code",
   "execution_count": 23,
   "metadata": {
    "colab": {
     "base_uri": "https://localhost:8080/",
     "height": 88
    },
    "colab_type": "code",
    "id": "wv_JhjiUWNii",
    "outputId": "f0db9108-654c-4d33-cf05-de903b0e3aea"
   },
   "outputs": [
    {
     "name": "stdout",
     "output_type": "stream",
     "text": [
      "WARNING:tensorflow:From /usr/local/lib/python3.6/dist-packages/tensorflow/python/ops/init_ops.py:1251: calling VarianceScaling.__init__ (from tensorflow.python.ops.init_ops) with dtype is deprecated and will be removed in a future version.\n",
      "Instructions for updating:\n",
      "Call initializer instance with the dtype argument instead of passing it to the constructor\n"
     ]
    }
   ],
   "source": [
    "#BOW\n",
    "model1 = tf.keras.Sequential([\n",
    "    tf.keras.layers.Dense(300, activation=tf.nn.relu),\n",
    "    tf.keras.layers.Dropout(0.2),\n",
    "    tf.keras.layers.Dense(250, activation=tf.nn.relu),\n",
    "    tf.keras.layers.Dropout(0.2),\n",
    "    tf.keras.layers.Dense(20, activation=tf.nn.softmax)\n",
    "])\n",
    "\n",
    "model1.compile(optimizer = 'adam', loss = 'sparse_categorical_crossentropy', metrics = ['accuracy'])\n",
    "\n",
    "epoc1 = model1.fit(X_train1, Y_train, epochs = 150, verbose = 0)"
   ]
  },
  {
   "cell_type": "code",
   "execution_count": 24,
   "metadata": {
    "colab": {
     "base_uri": "https://localhost:8080/",
     "height": 851
    },
    "colab_type": "code",
    "id": "XjFnk_-_WNin",
    "outputId": "f028d750-eb68-4e4f-dae0-99c7e58d4105"
   },
   "outputs": [
    {
     "data": {
      "image/png": "[encoded data removed]",
      "text/plain": [
       "<Figure size 432x288 with 1 Axes>"
      ]
     },
     "metadata": {
      "tags": []
     },
     "output_type": "display_data"
    },
    {
     "data": {
      "image/png": "[encoded data removed]",
      "text/plain": [
       "<Figure size 432x288 with 1 Axes>"
      ]
     },
     "metadata": {
      "tags": []
     },
     "output_type": "display_data"
    },
    {
     "data": {
      "image/png": "[encoded data removed]",
      "text/plain": [
       "<Figure size 432x288 with 1 Axes>"
      ]
     },
     "metadata": {
      "tags": []
     },
     "output_type": "display_data"
    }
   ],
   "source": [
    "accuracy_lst = epoc1.history['acc']\n",
    "loss_lst = epoc1.history['loss']\n",
    "class_error_lst = (1-np.array(epoc1.history['acc']))*100\n",
    "\n",
    "plt.plot(accuracy_lst, c='g')\n",
    "plt.xlabel('#iterations')\n",
    "plt.ylabel('Accuracy')\n",
    "plt.title('Accuracy Plot')\n",
    "plt.show()\n",
    "    \n",
    "plt.plot(loss_lst, c='r')\n",
    "plt.xlabel('#iterations')\n",
    "plt.ylabel('Loss')\n",
    "plt.title('Loss Plot')\n",
    "plt.show()\n",
    "\n",
    "plt.plot(class_error_lst, c='b')\n",
    "plt.xlabel('#iterations')\n",
    "plt.ylabel('Classification error')\n",
    "plt.title('Classification Error Plot')\n",
    "plt.show()"
   ]
  },
  {
   "cell_type": "code",
   "execution_count": 25,
   "metadata": {
    "colab": {
     "base_uri": "https://localhost:8080/",
     "height": 51
    },
    "colab_type": "code",
    "id": "t-5xzKoIWNit",
    "outputId": "154b0db5-d398-4127-b898-45892ce52180"
   },
   "outputs": [
    {
     "name": "stdout",
     "output_type": "stream",
     "text": [
      "Validation Loss:  1.4256826392535507\n",
      "Validation Accuracy :  0.7193634\n"
     ]
    }
   ],
   "source": [
    "#Validation loss, and accuracy for BOW\n",
    "lo, ac = model1.evaluate(X_val1, Y_val, verbose = 0)\n",
    "print(\"Validation Loss: \", lo)\n",
    "print(\"Validation Accuracy : \", ac)"
   ]
  },
  {
   "cell_type": "code",
   "execution_count": 0,
   "metadata": {
    "colab": {},
    "colab_type": "code",
    "id": "kXe2JGuDWNi5"
   },
   "outputs": [],
   "source": [
    "#SG\n",
    "model2 = tf.keras.Sequential([\n",
    "    tf.keras.layers.Dense(300, activation=tf.nn.relu),\n",
    "    tf.keras.layers.Dropout(0.2),\n",
    "    tf.keras.layers.Dense(250, activation=tf.nn.relu),\n",
    "    tf.keras.layers.Dropout(0.2),\n",
    "    tf.keras.layers.Dense(20, activation=tf.nn.softmax)\n",
    "])\n",
    "\n",
    "model2.compile(optimizer = 'adam', loss = 'sparse_categorical_crossentropy', metrics = ['accuracy'])\n",
    "\n",
    "epoc2 = model2.fit(X_train2, Y_train, epochs = 150, verbose = 0)"
   ]
  },
  {
   "cell_type": "code",
   "execution_count": 27,
   "metadata": {
    "colab": {
     "base_uri": "https://localhost:8080/",
     "height": 851
    },
    "colab_type": "code",
    "id": "F-kO7mWUWNjC",
    "outputId": "80f0a9c6-aace-4b48-9c5a-e164af1c5bb5"
   },
   "outputs": [
    {
     "data": {
      "image/png": "[encoded data removed]",
      "text/plain": [
       "<Figure size 432x288 with 1 Axes>"
      ]
     },
     "metadata": {
      "tags": []
     },
     "output_type": "display_data"
    },
    {
     "data": {
      "image/png": "[encoded data removed]",
      "text/plain": [
       "<Figure size 432x288 with 1 Axes>"
      ]
     },
     "metadata": {
      "tags": []
     },
     "output_type": "display_data"
    },
    {
     "data": {
      "image/png": "[encoded data removed]",
      "text/plain": [
       "<Figure size 432x288 with 1 Axes>"
      ]
     },
     "metadata": {
      "tags": []
     },
     "output_type": "display_data"
    }
   ],
   "source": [
    "accuracy_lst = epoc2.history['acc']\n",
    "loss_lst = epoc2.history['loss']\n",
    "class_error_lst = (1-np.array(epoc2.history['acc']))*100\n",
    "\n",
    "plt.plot(accuracy_lst, c='g')\n",
    "plt.xlabel('#iterations')\n",
    "plt.ylabel('Accuracy')\n",
    "plt.title('Accuracy Plot')\n",
    "plt.show()\n",
    "    \n",
    "plt.plot(loss_lst, c='r')\n",
    "plt.xlabel('#iterations')\n",
    "plt.ylabel('Loss')\n",
    "plt.title('Loss Plot')\n",
    "plt.show()\n",
    "\n",
    "plt.plot(class_error_lst, c='b')\n",
    "plt.xlabel('#iterations')\n",
    "plt.ylabel('Classification error')\n",
    "plt.title('Classification Error Plot')\n",
    "plt.show()"
   ]
  },
  {
   "cell_type": "code",
   "execution_count": 28,
   "metadata": {
    "colab": {
     "base_uri": "https://localhost:8080/",
     "height": 51
    },
    "colab_type": "code",
    "id": "QHPiuZS9WNjv",
    "outputId": "bb6ea47e-9717-483e-e219-b48f971e5f69"
   },
   "outputs": [
    {
     "name": "stdout",
     "output_type": "stream",
     "text": [
      "Validation Loss:  0.9108909188910568\n",
      "Validation Accuracy :  0.8312997\n"
     ]
    }
   ],
   "source": [
    "#Validation loss, and accuracy for SG\n",
    "lo, ac = model2.evaluate(X_val2, Y_val, verbose = 0)\n",
    "print(\"Validation Loss: \", lo)\n",
    "print(\"Validation Accuracy : \", ac)"
   ]
  },
  {
   "cell_type": "markdown",
   "metadata": {
    "colab_type": "text",
    "id": "OYyXmVKiWNj2"
   },
   "source": [
    "### iii. Find the classification accuracy, the number of true positives, true negatives, false positives and false negatives for both training and test data -->"
   ]
  },
  {
   "cell_type": "code",
   "execution_count": 0,
   "metadata": {
    "colab": {},
    "colab_type": "code",
    "id": "1nerIaFnWNj4"
   },
   "outputs": [],
   "source": [
    "def perf_measure(y_actual, y_pred):\n",
    "    TP = 0\n",
    "    FP = 0\n",
    "    TN = 0\n",
    "    FN = 0\n",
    "\n",
    "    for i in range(len(y_pred)): \n",
    "        if y_actual[i]==y_pred[i]==1:\n",
    "           TP += 1\n",
    "        if y_pred[i]==1 and y_actual[i]!=y_pred[i]:\n",
    "           FP += 1\n",
    "        if y_actual[i]==y_pred[i]==0:\n",
    "           TN += 1\n",
    "        if y_pred[i]==0 and y_actual[i]!=y_pred[i]:\n",
    "           FN += 1\n",
    "    return(TP, FP, TN, FN)"
   ]
  },
  {
   "cell_type": "code",
   "execution_count": 30,
   "metadata": {
    "colab": {
     "base_uri": "https://localhost:8080/",
     "height": 51
    },
    "colab_type": "code",
    "id": "_i5O2SlaWNj-",
    "outputId": "e1db7541-30a4-401f-ba64-fe58f1d8eeee"
   },
   "outputs": [
    {
     "name": "stdout",
     "output_type": "stream",
     "text": [
      "[10  3 17 ...  5  5  7]\n",
      "[10  3 17 ...  5  5  7]\n"
     ]
    }
   ],
   "source": [
    "print(np.argmax(model2.predict(X_train2), axis = 1))\n",
    "print(Y_train)"
   ]
  },
  {
   "cell_type": "code",
   "execution_count": 31,
   "metadata": {
    "colab": {
     "base_uri": "https://localhost:8080/",
     "height": 34
    },
    "colab_type": "code",
    "id": "gOkgxNsCWNkJ",
    "outputId": "fe990fdb-c5d4-45f1-a3c7-f7557eae2c16"
   },
   "outputs": [
    {
     "name": "stdout",
     "output_type": "stream",
     "text": [
      "677 8 552 5\n"
     ]
    }
   ],
   "source": [
    "#for training data : TP, FP, FN, TN ->\n",
    "tp, fp, tn, fn = perf_measure(Y_train, np.argmax(model2.predict(X_train2), axis = 1))\n",
    "print(tp ,fp, tn, fn)"
   ]
  },
  {
   "cell_type": "code",
   "execution_count": 32,
   "metadata": {
    "colab": {
     "base_uri": "https://localhost:8080/",
     "height": 51
    },
    "colab_type": "code",
    "id": "GgOIjayLWNkQ",
    "outputId": "4af1d7f1-d1ae-43e5-962f-d3149a5e7242"
   },
   "outputs": [
    {
     "name": "stdout",
     "output_type": "stream",
     "text": [
      "Test Loss:  1.0184817123267593\n",
      "Test Accuracy :  0.82621384\n"
     ]
    }
   ],
   "source": [
    "#test loss and accuracy for SG\n",
    "lo, ac = model2.evaluate(X_test2, Y_test, verbose = 0)\n",
    "print(\"Test Loss: \", lo)\n",
    "print(\"Test Accuracy : \", ac)"
   ]
  },
  {
   "cell_type": "code",
   "execution_count": 33,
   "metadata": {
    "colab": {
     "base_uri": "https://localhost:8080/",
     "height": 34
    },
    "colab_type": "code",
    "id": "RcTaNAJsWNkY",
    "outputId": "fbaebd9e-5088-4c49-db16-b679f3c99f93"
   },
   "outputs": [
    {
     "name": "stdout",
     "output_type": "stream",
     "text": [
      "143 67 131 18\n"
     ]
    }
   ],
   "source": [
    "#for test data : TP, FP, FN, TN ->\n",
    "tp, fp, tn, fn = perf_measure(Y_test, np.argmax(model2.predict(X_test2), axis = 1))\n",
    "print(tp ,fp, tn, fn)"
   ]
  },
  {
   "cell_type": "markdown",
   "metadata": {
    "colab_type": "text",
    "id": "pyqcs-JMWNke"
   },
   "source": [
    "### iv. There are two training algorithms for Word2Vec: skip-gram and bag of words. Which training algorithm is performing better in this data set? -->"
   ]
  },
  {
   "cell_type": "markdown",
   "metadata": {
    "colab_type": "text",
    "id": "eVQF8A1HWNkf"
   },
   "source": [
    "### Best Training Algorithm : Skip-Gram algorithm"
   ]
  },
  {
   "cell_type": "markdown",
   "metadata": {
    "colab_type": "raw",
    "id": "rUV7tKLiWNkh"
   },
   "source": [
    "Skip-gram algorithm-->\n",
    "    i. Validation Accuracy : 84.2%\n",
    "    ii. Validation Loss : 0.88\n",
    "Bag of Words algorithm-->\n",
    "    i. Validation Accuracy : 73.8%\n",
    "    ii. Validation Loss :  1.41\n",
    "\n",
    "Skip-gram algorithm works best as it gives out more validation accuracy and lesser validation loss as compared to the BagofWords algorithm irrespective of hyperparameter settings."
   ]
  },
  {
   "cell_type": "code",
   "execution_count": 0,
   "metadata": {
    "colab": {},
    "colab_type": "code",
    "id": "vSkpTCupWfkB"
   },
   "outputs": [],
   "source": []
  }
 ],
 "metadata": {
  "colab": {
   "name": "Word2Vec.ipynb",
   "provenance": []
  },
  "kernelspec": {
   "display_name": "Python 3",
   "language": "python",
   "name": "python3"
  },
  "language_info": {
   "codemirror_mode": {
    "name": "ipython",
    "version": 3
   },
   "file_extension": ".py",
   "mimetype": "text/x-python",
   "name": "python",
   "nbconvert_exporter": "python",
   "pygments_lexer": "ipython3",
   "version": "3.6.6"
  }
 },
 "nbformat": 4,
 "nbformat_minor": 1
}
