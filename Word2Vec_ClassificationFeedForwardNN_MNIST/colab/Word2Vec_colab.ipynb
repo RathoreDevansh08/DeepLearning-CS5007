{
  "nbformat": 4,
  "nbformat_minor": 0,
  "metadata": {
    "colab": {
      "name": "Word2Vec6.ipynb",
      "provenance": [],
      "collapsed_sections": []
    },
    "kernelspec": {
      "display_name": "Python 3",
      "language": "python",
      "name": "python3"
    },
    "language_info": {
      "codemirror_mode": {
        "name": "ipython",
        "version": 3
      },
      "file_extension": ".py",
      "mimetype": "text/x-python",
      "name": "python",
      "nbconvert_exporter": "python",
      "pygments_lexer": "ipython3",
      "version": "3.6.6"
    }
  },
  "cells": [
    {
      "cell_type": "markdown",
      "metadata": {
        "colab_type": "text",
        "id": "-LP2msu6WNfC",
        "tags": [
          "header"
        ]
      },
      "source": [
        "# <span style='font-size:50px;background-color:yellow;'>&#128201;</span> <font color=\"#004080\"> *Text Classification, Word2Vec (Using Scikit-learn) ::* </font>\n",
        "\n",
        "\n",
        "### (a) : i. 20-newgroup dataset is a collection of newsgroups in 20 topics. Fetch 20-newsgroup dataset --> "
      ]
    },
    {
      "cell_type": "code",
      "metadata": {
        "colab_type": "code",
        "id": "99G83EETWNfG",
        "colab": {}
      },
      "source": [
        "#Required packages\n",
        "import numpy as np\n",
        "import matplotlib.pyplot as plt\n",
        "import tensorflow as tf"
      ],
      "execution_count": 0,
      "outputs": []
    },
    {
      "cell_type": "code",
      "metadata": {
        "colab_type": "code",
        "id": "YNuCk7FEWNfR",
        "colab": {}
      },
      "source": [
        "from sklearn.datasets import fetch_20newsgroups"
      ],
      "execution_count": 0,
      "outputs": []
    },
    {
      "cell_type": "code",
      "metadata": {
        "colab_type": "code",
        "id": "8MFzymqHWNfY",
        "outputId": "5a6d0b72-60d7-46a8-9309-28521d9b5350",
        "colab": {
          "base_uri": "https://localhost:8080/",
          "height": 88
        }
      },
      "source": [
        "#dataset\n",
        "news_train = fetch_20newsgroups(subset='all')\n",
        "print(\"Dataset Size: {}\".format(len(news_train.data)))\n",
        "print(\"No. of targets: {}\".format(len(news_train.target_names)))\n",
        "print(news_train.target_names)"
      ],
      "execution_count": 92,
      "outputs": [
        {
          "output_type": "stream",
          "text": [
            "Dataset Size: 18846\n",
            "No. of targets: 20\n",
            "['alt.atheism', 'comp.graphics', 'comp.os.ms-windows.misc', 'comp.sys.ibm.pc.hardware', 'comp.sys.mac.hardware', 'comp.windows.x', 'misc.forsale', 'rec.autos', 'rec.motorcycles', 'rec.sport.baseball', 'rec.sport.hockey', 'sci.crypt', 'sci.electronics', 'sci.med', 'sci.space', 'soc.religion.christian', 'talk.politics.guns', 'talk.politics.mideast', 'talk.politics.misc', 'talk.religion.misc']\n"
          ],
          "name": "stdout"
        }
      ]
    },
    {
      "cell_type": "code",
      "metadata": {
        "colab_type": "code",
        "id": "syyU9NywWNff",
        "outputId": "99509ebd-84fe-49c7-f85f-d8bf99edca38",
        "colab": {
          "base_uri": "https://localhost:8080/",
          "height": 377
        }
      },
      "source": [
        "print(news_train.target[0])\n",
        "print(news_train.data[0])"
      ],
      "execution_count": 93,
      "outputs": [
        {
          "output_type": "stream",
          "text": [
            "10\n",
            "From: Mamatha Devineni Ratnam <mr47+@andrew.cmu.edu>\n",
            "Subject: Pens fans reactions\n",
            "Organization: Post Office, Carnegie Mellon, Pittsburgh, PA\n",
            "Lines: 12\n",
            "NNTP-Posting-Host: po4.andrew.cmu.edu\n",
            "\n",
            "\n",
            "\n",
            "I am sure some bashers of Pens fans are pretty confused about the lack\n",
            "of any kind of posts about the recent Pens massacre of the Devils. Actually,\n",
            "I am  bit puzzled too and a bit relieved. However, I am going to put an end\n",
            "to non-PIttsburghers' relief with a bit of praise for the Pens. Man, they\n",
            "are killing those Devils worse than I thought. Jagr just showed you why\n",
            "he is much better than his regular season stats. He is also a lot\n",
            "fo fun to watch in the playoffs. Bowman should let JAgr have a lot of\n",
            "fun in the next couple of games since the Pens are going to beat the pulp out of Jersey anyway. I was very disappointed not to see the Islanders lose the final\n",
            "regular season game.          PENS RULE!!!\n",
            "\n",
            "\n"
          ],
          "name": "stdout"
        }
      ]
    },
    {
      "cell_type": "markdown",
      "metadata": {
        "colab_type": "text",
        "id": "D-J0vZ5BWNfm"
      },
      "source": [
        "### ii. Pre-process the dataset: Convert to lowercase, remove punctuations, symbols, and stopwords. You can use NLTK or any other library of your choice -->"
      ]
    },
    {
      "cell_type": "code",
      "metadata": {
        "colab_type": "code",
        "id": "MPpKfyN-WNfo",
        "outputId": "cb81226d-cec0-4796-e15e-19751d0b3bea",
        "colab": {
          "base_uri": "https://localhost:8080/",
          "height": 68
        }
      },
      "source": [
        "import nltk\n",
        "from nltk.tokenize import RegexpTokenizer\n",
        "from nltk.corpus import stopwords\n",
        "nltk.download('stopwords')"
      ],
      "execution_count": 94,
      "outputs": [
        {
          "output_type": "stream",
          "text": [
            "[nltk_data] Downloading package stopwords to /root/nltk_data...\n",
            "[nltk_data]   Package stopwords is already up-to-date!\n"
          ],
          "name": "stdout"
        },
        {
          "output_type": "execute_result",
          "data": {
            "text/plain": [
              "True"
            ]
          },
          "metadata": {
            "tags": []
          },
          "execution_count": 94
        }
      ]
    },
    {
      "cell_type": "markdown",
      "metadata": {
        "colab_type": "text",
        "id": "1pnrFcRaWNfw"
      },
      "source": [
        "#### NOTE: Stopwords are the most common words in any natural language. For the purpose of analyzing text data and building NLP models, these stopwords might not add much value to the meaning of the document. eg. \"the\", \"is\", \"are\", etc."
      ]
    },
    {
      "cell_type": "code",
      "metadata": {
        "colab_type": "code",
        "id": "bPhAZw0nWNfy",
        "colab": {}
      },
      "source": [
        "tokenizer = RegexpTokenizer(r'\\w+')\n",
        "stop_words = stopwords.words('english')\n",
        "\n",
        "news_data = []\n",
        "for news in news_train.data:\n",
        "    tokens = tokenizer.tokenize(news)\n",
        "    tokens = [word.lower() for word in tokens if word not in stop_words]\n",
        "    news_data.append(tokens)"
      ],
      "execution_count": 0,
      "outputs": []
    },
    {
      "cell_type": "code",
      "metadata": {
        "colab_type": "code",
        "id": "0wiNlVRpWNf5",
        "outputId": "6a0e0fc4-f130-4ac3-e1bc-ca495bd98288",
        "colab": {
          "base_uri": "https://localhost:8080/",
          "height": 54
        }
      },
      "source": [
        "print(news_data[0])"
      ],
      "execution_count": 96,
      "outputs": [
        {
          "output_type": "stream",
          "text": [
            "['from', 'mamatha', 'devineni', 'ratnam', 'mr47', 'andrew', 'cmu', 'edu', 'subject', 'pens', 'fans', 'reactions', 'organization', 'post', 'office', 'carnegie', 'mellon', 'pittsburgh', 'pa', 'lines', '12', 'nntp', 'posting', 'host', 'po4', 'andrew', 'cmu', 'edu', 'i', 'sure', 'bashers', 'pens', 'fans', 'pretty', 'confused', 'lack', 'kind', 'posts', 'recent', 'pens', 'massacre', 'devils', 'actually', 'i', 'bit', 'puzzled', 'bit', 'relieved', 'however', 'i', 'going', 'put', 'end', 'non', 'pittsburghers', 'relief', 'bit', 'praise', 'pens', 'man', 'killing', 'devils', 'worse', 'i', 'thought', 'jagr', 'showed', 'much', 'better', 'regular', 'season', 'stats', 'he', 'also', 'lot', 'fo', 'fun', 'watch', 'playoffs', 'bowman', 'let', 'jagr', 'lot', 'fun', 'next', 'couple', 'games', 'since', 'pens', 'going', 'beat', 'pulp', 'jersey', 'anyway', 'i', 'disappointed', 'see', 'islanders', 'lose', 'final', 'regular', 'season', 'game', 'pens', 'rule']\n"
          ],
          "name": "stdout"
        }
      ]
    },
    {
      "cell_type": "markdown",
      "metadata": {
        "colab_type": "text",
        "id": "31NFOFbRWNgB"
      },
      "source": [
        "### iii. Convert the words in the dataset to vectors of dimension 100 using Word2Vec. Ignore words whose frequency is less than 10 -->"
      ]
    },
    {
      "cell_type": "code",
      "metadata": {
        "colab_type": "code",
        "id": "h0C0Jv8dWNgD",
        "colab": {}
      },
      "source": [
        "from gensim.models import Word2Vec"
      ],
      "execution_count": 0,
      "outputs": []
    },
    {
      "cell_type": "code",
      "metadata": {
        "colab_type": "code",
        "id": "2JaRnOfJWNgL",
        "outputId": "62417c55-797a-40bf-af0d-9d005d301fb0",
        "scrolled": true,
        "colab": {
          "base_uri": "https://localhost:8080/",
          "height": 306
        }
      },
      "source": [
        "#creating model for word2vec\n",
        "model = Word2Vec(news_data, min_count=10, size = 100, workers=4)\n",
        "print(model.wv['computer'])"
      ],
      "execution_count": 98,
      "outputs": [
        {
          "output_type": "stream",
          "text": [
            "[ 0.63043797 -1.5730116  -0.50301886 -3.0850043   1.1767856  -0.5040765\n",
            "  1.2229903  -2.4972095   0.5924191   0.5542817   0.9033711   2.4870665\n",
            " -0.15172997  1.1111991   0.4466094   0.9425521  -1.174276   -1.6230469\n",
            " -0.5368191   0.67518806  0.5917586  -0.4292076  -1.3719321  -2.0949864\n",
            "  2.3128436  -1.1477485   0.917438    0.4668932  -2.0762222  -1.1682256\n",
            " -0.8842014   1.900666   -0.21535268  0.9047848  -0.609487   -1.7084122\n",
            "  1.89642    -0.84588206  2.3951373  -0.5108655  -1.062994   -1.115854\n",
            " -2.4892197   1.2454517  -0.31664166  0.5302535  -0.71871483  0.66884804\n",
            " -1.2998359   1.4234827   1.7354937   0.02669436 -1.5985206   1.1591097\n",
            " -1.4808294   2.531931    1.8052387  -1.3006848  -0.6352181  -1.2732502\n",
            " -2.0289643   1.6109229  -0.02959828  1.1209072  -0.9970612   2.224265\n",
            " -2.2072046  -0.6776982  -0.00538027  1.5511539   2.4499826  -0.44281146\n",
            " -1.9192132   0.42694888 -3.0077558  -0.3366697  -0.98843104 -0.42658022\n",
            "  0.65830296  0.63599646  3.156568    0.80574346  1.8695594  -0.1573359\n",
            " -0.5775792   0.6094865   2.812281    1.074777   -0.571288   -2.568314\n",
            " -2.0174994   0.7743787   0.08895407  0.55131286  0.01024651 -1.2099093\n",
            " -1.751666   -0.6375417   1.1421521  -2.244878  ]\n"
          ],
          "name": "stdout"
        }
      ]
    },
    {
      "cell_type": "markdown",
      "metadata": {
        "colab_type": "text",
        "id": "KLs6vFDuWNgS"
      },
      "source": [
        "### iv. Find the vocabulary size -->"
      ]
    },
    {
      "cell_type": "code",
      "metadata": {
        "colab_type": "code",
        "id": "RVwl0ZjdWNgV",
        "outputId": "87eef046-fb98-402c-84a9-5a8cac16939d",
        "colab": {
          "base_uri": "https://localhost:8080/",
          "height": 34
        }
      },
      "source": [
        "print(\"Vocabulary Size: {}\".format(len(model.wv.vocab)))"
      ],
      "execution_count": 99,
      "outputs": [
        {
          "output_type": "stream",
          "text": [
            "Vocabulary Size: 27110\n"
          ],
          "name": "stdout"
        }
      ]
    },
    {
      "cell_type": "markdown",
      "metadata": {
        "colab_type": "text",
        "id": "kBBOj9r-WNgd"
      },
      "source": [
        "### v. Find the most similar words in the corpus to the word “car” along with their similarities -->"
      ]
    },
    {
      "cell_type": "code",
      "metadata": {
        "colab_type": "code",
        "id": "srMlPn_pWNgf",
        "outputId": "4677a8b4-5a90-42e4-f244-02725169c8e2",
        "colab": {
          "base_uri": "https://localhost:8080/",
          "height": 105
        }
      },
      "source": [
        "print(\"Most Similar Words to 'car': \\n {}\".format(model.wv.most_similar('car')))"
      ],
      "execution_count": 100,
      "outputs": [
        {
          "output_type": "stream",
          "text": [
            "Most Similar Words to 'car': \n",
            " [('dealer', 0.8191438913345337), ('motorcycle', 0.7862375378608704), ('owner', 0.7798184752464294), ('bikes', 0.7754372358322144), ('tires', 0.775124192237854), ('cars', 0.7689034938812256), ('bike', 0.7629185914993286), ('odometer', 0.7460270524024963), ('convertible', 0.7411003112792969), ('mechanic', 0.7348772287368774)]\n"
          ],
          "name": "stdout"
        },
        {
          "output_type": "stream",
          "text": [
            "/usr/local/lib/python3.6/dist-packages/gensim/matutils.py:737: FutureWarning: Conversion of the second argument of issubdtype from `int` to `np.signedinteger` is deprecated. In future, it will be treated as `np.int64 == np.dtype(int).type`.\n",
            "  if np.issubdtype(vec.dtype, np.int):\n"
          ],
          "name": "stderr"
        }
      ]
    },
    {
      "cell_type": "markdown",
      "metadata": {
        "colab_type": "text",
        "id": "ELHcSQPpWNgm"
      },
      "source": [
        "### vi. Find the top 5 words similar to the following operations -->\n",
        "    • girl + father - boy\n",
        "    • sports - bat + ball"
      ]
    },
    {
      "cell_type": "code",
      "metadata": {
        "colab_type": "code",
        "id": "DqB5kcauWNgp",
        "outputId": "51a888ac-9718-496b-87b2-7ead424b8a1a",
        "colab": {
          "base_uri": "https://localhost:8080/",
          "height": 105
        }
      },
      "source": [
        "print(\"Most Similar Words to 'girl + father - boy': \\n {}\".format(model.wv.most_similar(positive=['girl', 'father'], negative=['boy'])))"
      ],
      "execution_count": 101,
      "outputs": [
        {
          "output_type": "stream",
          "text": [
            "Most Similar Words to 'girl + father - boy': \n",
            " [('son', 0.8796533942222595), ('holy', 0.7809191942214966), ('mother', 0.7772170305252075), ('thy', 0.7665776014328003), ('daughter', 0.7659397125244141), ('elohim', 0.7621646523475647), ('hath', 0.7560471296310425), ('jehovah', 0.7553360462188721), ('hast', 0.7414901256561279), ('risen', 0.7405507564544678)]\n"
          ],
          "name": "stdout"
        },
        {
          "output_type": "stream",
          "text": [
            "/usr/local/lib/python3.6/dist-packages/gensim/matutils.py:737: FutureWarning: Conversion of the second argument of issubdtype from `int` to `np.signedinteger` is deprecated. In future, it will be treated as `np.int64 == np.dtype(int).type`.\n",
            "  if np.issubdtype(vec.dtype, np.int):\n"
          ],
          "name": "stderr"
        }
      ]
    },
    {
      "cell_type": "code",
      "metadata": {
        "colab_type": "code",
        "id": "6b5Wa1FgWNg3",
        "outputId": "bb5b1117-7981-450e-da4d-c14bf3a829c6",
        "colab": {
          "base_uri": "https://localhost:8080/",
          "height": 105
        }
      },
      "source": [
        "print(\"Most Similar Words to 'sports - bat + ball': \\n {}\".format(model.wv.most_similar(positive=['sports', 'ball'], negative=['bat'])))"
      ],
      "execution_count": 102,
      "outputs": [
        {
          "output_type": "stream",
          "text": [
            "Most Similar Words to 'sports - bat + ball': \n",
            " [('abc', 0.7602719068527222), ('coverage', 0.7421071529388428), ('arena', 0.7262146472930908), ('boy', 0.6988816857337952), ('canadian', 0.695965051651001), ('wearing', 0.6919500827789307), ('afternoon', 0.6896092891693115), ('league', 0.6840466856956482), ('franchise', 0.682788610458374), ('hockey', 0.6816873550415039)]\n"
          ],
          "name": "stdout"
        },
        {
          "output_type": "stream",
          "text": [
            "/usr/local/lib/python3.6/dist-packages/gensim/matutils.py:737: FutureWarning: Conversion of the second argument of issubdtype from `int` to `np.signedinteger` is deprecated. In future, it will be treated as `np.int64 == np.dtype(int).type`.\n",
            "  if np.issubdtype(vec.dtype, np.int):\n"
          ],
          "name": "stderr"
        }
      ]
    },
    {
      "cell_type": "markdown",
      "metadata": {
        "colab_type": "text",
        "id": "OKypgTJ8WNhA"
      },
      "source": [
        "### vii. Create a TSNE plot for the top 20 words similar to each of the words [‘baseball’, ‘software’,‘police’, ‘government’, ‘circuit’, ‘car’] -->"
      ]
    },
    {
      "cell_type": "markdown",
      "metadata": {
        "colab_type": "text",
        "id": "J1y1Pa3WWNhC"
      },
      "source": [
        "#### NOTE: t-SNE [1] is a tool to visualize high-dimensional data. It converts similarities between data points to joint probabilities and tries to minimize the Kullback-Leibler divergence between the joint probabilities of the low-dimensional embedding and the high-dimensional data. t-SNE has a cost function that is not convex, i.e. with different initializations we can get different results."
      ]
    },
    {
      "cell_type": "code",
      "metadata": {
        "colab_type": "code",
        "id": "mYMiMvQIWNhE",
        "outputId": "f9587638-e580-4ff5-9971-b43395989724",
        "colab": {
          "base_uri": "https://localhost:8080/",
          "height": 88
        }
      },
      "source": [
        "lst = ['baseball', 'software', 'police', 'government', 'circuit', 'car']\n",
        "plt_lst = []\n",
        "\n",
        "for word in lst:\n",
        "    simwrd = [tpl[0] for tpl in model.wv.most_similar(word, topn=20)]\n",
        "    plt_lst+=simwrd\n",
        "\n",
        "print(plt_lst)"
      ],
      "execution_count": 103,
      "outputs": [
        {
          "output_type": "stream",
          "text": [
            "['nhl', 'stats', 'players', 'hockey', 'playoff', 'espn', 'teams', 'fans', 'league', 'games', 'football', 'braves', 'team', 'playoffs', 'game', 'player', 'defensive', 'talent', 'coverage', 'pitching', 'hardware', 'network', 'cdrom', 'macintosh', 'vendor', 'machines', 'platform', 'vendors', 'packages', 'nextstep', 'packet', 'package', 'tools', 'pcs', 'upgrades', 'multimedia', 'support', 'developer', 'product', 'applications', 'federal', 'officers', 'officials', 'concealed', 'cops', 'guns', 'weapons', 'legislation', 'ban', 'legislature', 'courts', 'elected', 'illegally', 'governments', 'firearms', 'gun', 'lawyers', 'feds', 'departments', 'criminals', 'federal', 'citizen', 'regulation', 'nsa', 'citizens', 'legitimate', 'experts', 'governments', 'agencies', 'parties', 'elected', 'proposal', 'intervention', 'interests', 'investigation', 'voluntary', 'criminals', 'military', 'privately', 'funds', 'analog', 'amp', 'timing', 'signal', 'transmitter', 'sensor', 'recording', 'cables', 'signals', 'filter', 'receiver', 'components', 'connections', 'wire', 'inputs', 'wires', 'amplifier', 'circuitry', 'panel', 'wiring', 'dealer', 'motorcycle', 'owner', 'bikes', 'tires', 'cars', 'bike', 'odometer', 'convertible', 'mechanic', 'buying', 'truck', 'tire', 'toyota', 'dealership', 'replaced', 'engine', 'shop', 'nissan', 'owners']\n"
          ],
          "name": "stdout"
        },
        {
          "output_type": "stream",
          "text": [
            "/usr/local/lib/python3.6/dist-packages/gensim/matutils.py:737: FutureWarning: Conversion of the second argument of issubdtype from `int` to `np.signedinteger` is deprecated. In future, it will be treated as `np.int64 == np.dtype(int).type`.\n",
            "  if np.issubdtype(vec.dtype, np.int):\n"
          ],
          "name": "stderr"
        }
      ]
    },
    {
      "cell_type": "code",
      "metadata": {
        "colab_type": "code",
        "id": "PRjyq6NZWNhM",
        "colab": {}
      },
      "source": [
        "from sklearn.manifold import TSNE"
      ],
      "execution_count": 0,
      "outputs": []
    },
    {
      "cell_type": "code",
      "metadata": {
        "colab_type": "code",
        "id": "Xd6me8dKWNhV",
        "colab": {}
      },
      "source": [
        "vectors = []\n",
        "\n",
        "for word in plt_lst:\n",
        "    vectors.append(model.wv[word])\n",
        "    \n",
        "#applying pca, changing to bi-dimensional vectors\n",
        "tsne_model = TSNE(perplexity=10, n_components=2, init='pca', n_iter=5000)\n",
        "new_vectors = tsne_model.fit_transform(vectors)"
      ],
      "execution_count": 0,
      "outputs": []
    },
    {
      "cell_type": "code",
      "metadata": {
        "colab_type": "code",
        "id": "xjrABk3KWNhc",
        "outputId": "48a85641-5e2b-4ba7-9c16-d583d0adb2a7",
        "colab": {
          "base_uri": "https://localhost:8080/",
          "height": 1000
        }
      },
      "source": [
        "print(new_vectors)"
      ],
      "execution_count": 106,
      "outputs": [
        {
          "output_type": "stream",
          "text": [
            "[[ 6.32166077e+02 -4.55885010e+01]\n",
            " [ 5.03356323e+02 -1.34015064e+01]\n",
            " [ 6.58305786e+02 -1.08259735e+02]\n",
            " [ 6.49062500e+02 -1.42750287e+00]\n",
            " [ 5.85353394e+02 -3.79761086e+01]\n",
            " [ 5.54879028e+02 -5.71089923e-01]\n",
            " [ 6.41153076e+02 -8.32862854e+01]\n",
            " [ 5.90695190e+02  1.88497715e+01]\n",
            " [ 6.83875549e+02 -5.93840370e+01]\n",
            " [ 6.17469788e+02 -1.23286064e+02]\n",
            " [ 4.35982605e+02 -3.38041916e+01]\n",
            " [ 5.46066406e+02 -3.44836693e+01]\n",
            " [ 6.97688782e+02 -1.10697624e+02]\n",
            " [ 5.63502625e+02 -7.22076035e+01]\n",
            " [ 6.06840393e+02 -1.60737167e+02]\n",
            " [ 5.26782654e+02 -1.22491814e+02]\n",
            " [ 4.89391632e+02 -6.85842514e+01]\n",
            " [ 4.63911133e+02 -5.48462334e+01]\n",
            " [ 4.24515350e+02 -7.66343307e+01]\n",
            " [ 5.29507568e+02 -7.13775635e+01]\n",
            " [-4.36386627e+02  2.86061768e+02]\n",
            " [-3.91380859e+02  3.87556122e+02]\n",
            " [-2.88848328e+02  2.52921677e+02]\n",
            " [-4.08173981e+02  3.36820648e+02]\n",
            " [-3.44430359e+02  3.19400208e+02]\n",
            " [-4.45557037e+02  3.49668671e+02]\n",
            " [-2.86946198e+02  3.03012848e+02]\n",
            " [-3.07771973e+02  3.23527008e+02]\n",
            " [-3.82123047e+02  2.43184708e+02]\n",
            " [-1.99244522e+02  2.58338104e+02]\n",
            " [-3.39914642e+02  3.63352661e+02]\n",
            " [-4.22485321e+02  2.25005524e+02]\n",
            " [-3.57961517e+02  2.15410965e+02]\n",
            " [-2.60126892e+02  3.31370422e+02]\n",
            " [-2.10419769e+02  2.98813507e+02]\n",
            " [-3.20967407e+02  2.75539032e+02]\n",
            " [-2.95484192e+02  3.88827698e+02]\n",
            " [-2.42180222e+02  2.90106598e+02]\n",
            " [-3.79298279e+02  2.95764313e+02]\n",
            " [-3.79541138e+02  1.87954239e+02]\n",
            " [ 8.32927399e+01 -4.81193665e+02]\n",
            " [-5.43110390e+01 -3.75186676e+02]\n",
            " [-2.20076294e+01 -3.59782959e+02]\n",
            " [-5.33693161e+01 -1.52574890e+02]\n",
            " [ 9.98449860e+01 -2.20875290e+02]\n",
            " [-8.00961685e+01 -5.62301575e+02]\n",
            " [-4.35133057e+01 -4.86465607e+02]\n",
            " [-4.09690361e+01 -2.12782074e+02]\n",
            " [-7.08138351e+01 -1.96252289e+02]\n",
            " [ 4.76917534e+01 -6.12733231e+01]\n",
            " [-1.94559345e+01 -2.45108459e+02]\n",
            " [-1.64387798e+01 -2.86539886e+02]\n",
            " [ 1.67902546e+01 -1.17051056e+02]\n",
            " [ 1.92904396e+01 -3.97796173e+02]\n",
            " [-3.37389488e+01 -4.43400665e+02]\n",
            " [-5.42455673e+01 -5.87925476e+02]\n",
            " [ 7.69842815e+00 -2.16869568e+02]\n",
            " [ 6.93155060e+01 -2.04820099e+02]\n",
            " [ 4.37543602e+01 -1.01500755e+02]\n",
            " [-8.88127975e+01 -5.09370544e+02]\n",
            " [ 8.32927399e+01 -4.81193665e+02]\n",
            " [-1.29405502e+02 -2.06035904e+02]\n",
            " [-1.04417486e+01 -1.76063736e+02]\n",
            " [-2.09148438e+02 -3.38695679e+02]\n",
            " [-1.24259460e+02 -4.76571136e+02]\n",
            " [-1.55326294e+02 -2.56798523e+02]\n",
            " [-1.36836563e+02 -3.39049866e+02]\n",
            " [ 1.92904396e+01 -3.97796173e+02]\n",
            " [-2.01648926e+02 -3.74060486e+02]\n",
            " [-1.06457970e+02 -2.95993958e+02]\n",
            " [-4.17262383e+01 -2.89139130e+02]\n",
            " [-1.85314896e+02 -3.04881836e+02]\n",
            " [-6.90992203e+01 -2.52227783e+02]\n",
            " [-1.06943642e+02 -2.39407471e+02]\n",
            " [-9.63084335e+01 -3.25471466e+02]\n",
            " [ 1.94444141e+01 -1.64843781e+02]\n",
            " [-1.09790047e+02 -5.20428406e+02]\n",
            " [ 6.27717743e+01 -3.67226379e+02]\n",
            " [ 1.11715231e+01 -7.97820663e+01]\n",
            " [ 4.03224945e+01 -3.00678802e+02]\n",
            " [ 2.27439671e+01  3.44805725e+02]\n",
            " [ 9.54725342e+01  3.84075867e+02]\n",
            " [-9.85747910e+01  4.07786163e+02]\n",
            " [ 5.39954834e+01  4.76297668e+02]\n",
            " [-4.22478065e+01  3.56357574e+02]\n",
            " [-8.84485435e+00  3.23149261e+02]\n",
            " [-9.31448669e+01  3.50880402e+02]\n",
            " [-6.93314362e+01  4.41549194e+02]\n",
            " [-8.67730427e+00  4.60462646e+02]\n",
            " [-5.16943407e+00  3.82015686e+02]\n",
            " [ 4.23323593e+01  3.92034576e+02]\n",
            " [ 8.72394466e+00  4.30594513e+02]\n",
            " [-6.73310776e+01  3.81741760e+02]\n",
            " [-7.66997833e+01  5.23409912e+02]\n",
            " [-3.94306068e+01  4.04172485e+02]\n",
            " [-5.06870117e+01  4.89329407e+02]\n",
            " [-5.70106354e+01  3.28773438e+02]\n",
            " [-1.03339554e+02  3.23887512e+02]\n",
            " [-1.65532284e+01  5.52896606e+02]\n",
            " [-1.06616173e+01  5.11569366e+02]\n",
            " [ 4.38491783e+01  1.54773804e+02]\n",
            " [ 1.27227417e+02  1.65093674e+02]\n",
            " [ 1.22276268e+02  9.89972992e+01]\n",
            " [ 1.47718384e+02  2.03739883e+02]\n",
            " [ 2.03280563e+02  1.91079193e+02]\n",
            " [ 1.56451935e+02  2.49775665e+02]\n",
            " [ 2.14537430e+02  2.41281906e+02]\n",
            " [ 4.88957863e+01  4.75837059e+01]\n",
            " [ 1.21599922e+02  4.32018700e+01]\n",
            " [ 8.01570511e+01  3.54564438e+01]\n",
            " [ 6.18415337e+01  1.91507690e+02]\n",
            " [ 2.17880707e+02  1.40289505e+02]\n",
            " [ 1.90526428e+02  1.67091019e+02]\n",
            " [ 1.04428650e+02  2.33873550e+02]\n",
            " [ 8.02211685e+01  6.77387905e+00]\n",
            " [ 1.62416931e+02  1.13598549e+02]\n",
            " [ 1.41599869e+02  3.39445465e+02]\n",
            " [ 7.98458099e+01  9.32517548e+01]\n",
            " [ 1.51828598e+02  5.61670227e+01]\n",
            " [ 9.28813782e+01  1.46459930e+02]]\n"
          ],
          "name": "stdout"
        }
      ]
    },
    {
      "cell_type": "code",
      "metadata": {
        "colab_type": "code",
        "id": "YA09YLoXWNhk",
        "outputId": "ed4a914f-ff17-411d-f3b2-b962c71b5cb9",
        "colab": {
          "base_uri": "https://localhost:8080/",
          "height": 607
        }
      },
      "source": [
        "clr = ['m', 'b', 'c', 'g', 'r', 'y']\n",
        "\n",
        "col=-1\n",
        "j=0\n",
        "#plotting the similar words\n",
        "plt.figure(figsize=(20, 10)) \n",
        "plt.title(\"TSNE visualization of similar words\")\n",
        "for i in new_vectors:\n",
        "    if((j%20)==0):\n",
        "        col=col+1\n",
        "        plt.scatter(i[0],i[1],c=clr[col],label=lst[col])\n",
        "    else:\n",
        "        plt.scatter(i[0],i[1],c=clr[col])\n",
        "    plt.annotate(plt_lst[j],\n",
        "                 xy=(i[0], i[1]),\n",
        "                 va='bottom')\n",
        "    j=j+1\n",
        "plt.legend()\n",
        "plt.show()"
      ],
      "execution_count": 107,
      "outputs": [
        {
          "output_type": "display_data",
          "data": {
            "image/png": "[encoded data removed]",
            "text/plain": [
              "<Figure size 1440x720 with 1 Axes>"
            ]
          },
          "metadata": {
            "tags": []
          }
        }
      ]
    },
    {
      "cell_type": "markdown",
      "metadata": {
        "colab_type": "text",
        "id": "XWbo0B1SWNhz"
      },
      "source": [
        "### viii. The dataset consists of documents. Each document is a datapoint. Formulate a methodology to represent each document as a vector using the word vectors. Mention the method employed to create the vector representation of the documents -->\n",
        "\n",
        "To represent each document as a vector using word vectors, a method could be to break the document into different sentences and find an average of all the vectors of useful words in a sentence to derive vector for each sentence. And then using those vectors of each sentence, we can find the vector representation of the given document by finding weighted average of vector of sentences. These weights could be expression of length of a sentence, mode of frequency of a word in sentence, etc."
      ]
    },
    {
      "cell_type": "markdown",
      "metadata": {
        "colab_type": "raw",
        "id": "V2wmie-DWNh2"
      },
      "source": [
        "To represent each document as a vector using word vectors, a method could be to break the document into different sentences and find an average of all the vectors of useful words in a sentence to derive vector for each sentence. And then using those vectors of each sentence, we can find the vector representation of the given document by finding weighted average of vector of sentences. These weights could be expression of length of a sentence, mode of frequency of a word in sentence, etc."
      ]
    },
    {
      "cell_type": "markdown",
      "metadata": {
        "colab_type": "text",
        "id": "tHx_GH7pWNh7"
      },
      "source": [
        "<br><br><br><br><br>\n",
        "### (b) i. Split the dataset into training (70%), validation(10%) and testing(20%) data -->"
      ]
    },
    {
      "cell_type": "code",
      "metadata": {
        "colab_type": "code",
        "id": "ei60k1yqWNh-",
        "colab": {}
      },
      "source": [
        "#methods : skip-gram, bag_of_words\n",
        "\n",
        "model1 = Word2Vec(news_data, min_count=10, size=100, workers=4, sg=0)  #BOW\n",
        "model2 = Word2Vec(news_data, min_count=10, size=100, workers=4, sg=1)  #SG\n",
        "\n",
        "vector1 = model1.wv\n",
        "vector2 = model2.wv"
      ],
      "execution_count": 0,
      "outputs": []
    },
    {
      "cell_type": "code",
      "metadata": {
        "colab_type": "code",
        "id": "3NQDMYYWMVA5",
        "outputId": "37269e13-1a30-49a9-8482-6155953ef4eb",
        "colab": {
          "base_uri": "https://localhost:8080/",
          "height": 34
        }
      },
      "source": [
        "#shuffling the dataset\n",
        "\n",
        "print(len(news_data))\n",
        "\n",
        "from sklearn.utils import shuffle\n",
        "\n",
        "news_train_target = np.array(news_train.target[:])\n",
        "news_data, news_train_target  = shuffle(news_data, news_train_target)"
      ],
      "execution_count": 109,
      "outputs": [
        {
          "output_type": "stream",
          "text": [
            "18846\n"
          ],
          "name": "stdout"
        }
      ]
    },
    {
      "cell_type": "code",
      "metadata": {
        "colab_type": "code",
        "id": "jHatwkfBQShF",
        "outputId": "3dff6538-9852-47b4-91df-debb828af571",
        "colab": {
          "base_uri": "https://localhost:8080/",
          "height": 34
        }
      },
      "source": [
        "print(news_train_target[0], news_train_target[1])"
      ],
      "execution_count": 110,
      "outputs": [
        {
          "output_type": "stream",
          "text": [
            "8 10\n"
          ],
          "name": "stdout"
        }
      ]
    },
    {
      "cell_type": "code",
      "metadata": {
        "colab_type": "code",
        "id": "iRkPGMU0WNiE",
        "outputId": "df21a78b-f170-4887-dbeb-b455e37ab218",
        "colab": {
          "base_uri": "https://localhost:8080/",
          "height": 34
        }
      },
      "source": [
        "X_train = news_data[ : int(0.7*len(news_data))]\n",
        "Y_train = news_train_target[ : int(0.7*len(news_data))]\n",
        "X_test = news_data[int(0.7*len(news_data)):int(0.9*len(news_data))]\n",
        "Y_test = news_train_target[int(0.7*len(news_data)):int(0.9*len(news_data))]\n",
        "X_val = news_data[int(0.9*len(news_data)) : ]\n",
        "Y_val = news_train_target[int(0.9*len(news_data)) : ]\n",
        "\n",
        "print(\"Training data size : {}\".format(len(X_train)))"
      ],
      "execution_count": 111,
      "outputs": [
        {
          "output_type": "stream",
          "text": [
            "Training data size : 13192\n"
          ],
          "name": "stdout"
        }
      ]
    },
    {
      "cell_type": "code",
      "metadata": {
        "colab_type": "code",
        "id": "Lo-pU0DnWNiK",
        "colab": {}
      },
      "source": [
        ""
      ],
      "execution_count": 0,
      "outputs": []
    },
    {
      "cell_type": "code",
      "metadata": {
        "colab_type": "code",
        "id": "wI4DH4gxWNiR",
        "colab": {}
      },
      "source": [
        "# For BOW (model1)\n",
        "\n",
        "X_train1 = np.zeros((len(X_train), 100))\n",
        "j=0\n",
        "for vec in X_train:\n",
        "    now = 0\n",
        "    for word in vec:\n",
        "        if word in vector1:\n",
        "            X_train1[j] = X_train1[j] + vector1[word]\n",
        "            now = now + 1\n",
        "    \n",
        "    X_train1[j] = X_train1[j] / now     #averaging\n",
        "    j = j + 1\n",
        "\n",
        "    \n",
        "X_test1 = np.zeros((len(X_test), 100))\n",
        "j=0\n",
        "for vec in X_test:\n",
        "    now = 0\n",
        "    for word in vec:\n",
        "        if word in vector1:\n",
        "            X_test1[j] = X_test1[j] + vector1[word]\n",
        "            now = now + 1\n",
        "    \n",
        "    X_test1[j] = X_test1[j] / now\n",
        "    j = j + 1\n",
        "    \n",
        "    \n",
        "X_val1 = np.zeros((len(X_val), 100))\n",
        "j=0\n",
        "for vec in X_val:\n",
        "    now = 0\n",
        "    for word in vec:\n",
        "        if word in vector1:\n",
        "            X_val1[j] = X_val1[j] + vector1[word]\n",
        "            now = now + 1\n",
        "    \n",
        "    X_val1[j] =X_val1[j] / now\n",
        "    j = j + 1\n",
        "    \n",
        "    \n",
        "# ------------------------------------------------------------------------------------    \n",
        "# For SG (model2)\n",
        "\n",
        "X_train2 = np.zeros((len(X_train), 100))\n",
        "j=0\n",
        "for vec in X_train:\n",
        "    now = 0\n",
        "    for word in vec:\n",
        "        if word in vector2:\n",
        "            X_train2[j] = X_train2[j] + vector2[word]\n",
        "            now = now + 1\n",
        "    \n",
        "    X_train2[j] = X_train2[j] / now     #averaging\n",
        "    j = j + 1\n",
        "\n",
        "    \n",
        "X_test2 = np.zeros((len(X_test), 100))\n",
        "j=0\n",
        "for vec in X_test:\n",
        "    now = 0\n",
        "    for word in vec:\n",
        "        if word in vector2:\n",
        "            X_test2[j] = X_test2[j] + vector2[word]\n",
        "            now = now + 1\n",
        "    \n",
        "    X_test2[j] = X_test2[j] / now\n",
        "    j = j + 1\n",
        "    \n",
        "    \n",
        "X_val2 = np.zeros((len(X_val), 100))\n",
        "j=0\n",
        "for vec in X_val:\n",
        "    now = 0\n",
        "    for word in vec:\n",
        "        if word in vector2:\n",
        "            X_val2[j] = X_val2[j] + vector2[word]\n",
        "            now = now + 1\n",
        "    \n",
        "    X_val2[j] = X_val2[j] / now\n",
        "    j = j + 1"
      ],
      "execution_count": 0,
      "outputs": []
    },
    {
      "cell_type": "code",
      "metadata": {
        "colab_type": "code",
        "id": "bRKhnjyKWNiY",
        "outputId": "e35c89d9-9079-4035-8c0a-2d6d707fa346",
        "colab": {
          "base_uri": "https://localhost:8080/",
          "height": 34
        }
      },
      "source": [
        "print(Y_train)"
      ],
      "execution_count": 113,
      "outputs": [
        {
          "output_type": "stream",
          "text": [
            "[ 8 10  2 ...  7  7 11]\n"
          ],
          "name": "stdout"
        }
      ]
    },
    {
      "cell_type": "markdown",
      "metadata": {
        "colab_type": "text",
        "id": "zhCnTDEIWNig"
      },
      "source": [
        "### ii. Plot the loss vs iteration curve, classification error vs iteration curve, classification accuracy vs iteration curve for training data and report your observations -->"
      ]
    },
    {
      "cell_type": "code",
      "metadata": {
        "colab_type": "code",
        "id": "wv_JhjiUWNii",
        "colab": {}
      },
      "source": [
        "#BOW\n",
        "model1 = tf.keras.Sequential([\n",
        "    tf.keras.layers.Dense(300, activation=tf.nn.relu),\n",
        "    tf.keras.layers.Dropout(0.2),\n",
        "    tf.keras.layers.Dense(250, activation=tf.nn.relu),\n",
        "    tf.keras.layers.Dropout(0.1),\n",
        "    tf.keras.layers.Dense(20, activation=tf.nn.softmax)\n",
        "])\n",
        "\n",
        "model1.compile(optimizer = 'adam', loss = 'sparse_categorical_crossentropy', metrics = ['accuracy'])\n",
        "\n",
        "epoc1 = model1.fit(X_train1, Y_train, epochs = 150, verbose = 0)"
      ],
      "execution_count": 0,
      "outputs": []
    },
    {
      "cell_type": "code",
      "metadata": {
        "colab_type": "code",
        "id": "XjFnk_-_WNin",
        "outputId": "c54686bb-1189-4607-b403-5ecfebbeb1f2",
        "colab": {
          "base_uri": "https://localhost:8080/",
          "height": 851
        }
      },
      "source": [
        "accuracy_lst = epoc1.history['acc']\n",
        "loss_lst = epoc1.history['loss']\n",
        "class_error_lst = (1-np.array(epoc1.history['acc']))*100\n",
        "\n",
        "plt.plot(accuracy_lst, c='g')\n",
        "plt.xlabel('#iterations')\n",
        "plt.ylabel('Accuracy')\n",
        "plt.title('Accuracy Plot')\n",
        "plt.show()\n",
        "    \n",
        "plt.plot(loss_lst, c='r')\n",
        "plt.xlabel('#iterations')\n",
        "plt.ylabel('Loss')\n",
        "plt.title('Loss Plot')\n",
        "plt.show()\n",
        "\n",
        "plt.plot(class_error_lst, c='b')\n",
        "plt.xlabel('#iterations')\n",
        "plt.ylabel('Classification error')\n",
        "plt.title('Classification Error Plot')\n",
        "plt.show()"
      ],
      "execution_count": 115,
      "outputs": [
        {
          "output_type": "display_data",
          "data": {
            "image/png": "[encoded data removed]",
            "text/plain": [
              "<Figure size 432x288 with 1 Axes>"
            ]
          },
          "metadata": {
            "tags": []
          }
        },
        {
          "output_type": "display_data",
          "data": {
            "image/png": "[encoded data removed]",
            "text/plain": [
              "<Figure size 432x288 with 1 Axes>"
            ]
          },
          "metadata": {
            "tags": []
          }
        },
        {
          "output_type": "display_data",
          "data": {
            "image/png": "[encoded data removed]",
            "text/plain": [
              "<Figure size 432x288 with 1 Axes>"
            ]
          },
          "metadata": {
            "tags": []
          }
        }
      ]
    },
    {
      "cell_type": "code",
      "metadata": {
        "colab_type": "code",
        "id": "t-5xzKoIWNit",
        "outputId": "e07843d8-701d-4c01-eec9-6207309e65dd",
        "colab": {
          "base_uri": "https://localhost:8080/",
          "height": 51
        }
      },
      "source": [
        "#Validation loss, and accuracy for BOW\n",
        "lo, ac = model1.evaluate(X_val1, Y_val, verbose = 0)\n",
        "print(\"Validation Loss: \", lo)\n",
        "print(\"Validation Accuracy : \", ac)"
      ],
      "execution_count": 116,
      "outputs": [
        {
          "output_type": "stream",
          "text": [
            "Validation Loss:  1.5900569654586145\n",
            "Validation Accuracy :  0.733687\n"
          ],
          "name": "stdout"
        }
      ]
    },
    {
      "cell_type": "code",
      "metadata": {
        "colab_type": "code",
        "id": "kXe2JGuDWNi5",
        "colab": {}
      },
      "source": [
        "#SG\n",
        "model2 = tf.keras.Sequential([\n",
        "    tf.keras.layers.Dense(300, activation=tf.nn.relu),\n",
        "    tf.keras.layers.Dropout(0.2),\n",
        "    tf.keras.layers.Dense(250, activation=tf.nn.relu),\n",
        "    tf.keras.layers.Dropout(0.2),\n",
        "    tf.keras.layers.Dense(20, activation=tf.nn.softmax)\n",
        "])\n",
        "\n",
        "model2.compile(optimizer = 'adam', loss = 'sparse_categorical_crossentropy', metrics = ['accuracy'])\n",
        "\n",
        "epoc2 = model2.fit(X_train2, Y_train, epochs = 150, verbose = 0)"
      ],
      "execution_count": 0,
      "outputs": []
    },
    {
      "cell_type": "code",
      "metadata": {
        "colab_type": "code",
        "id": "F-kO7mWUWNjC",
        "outputId": "84d06519-7a80-47ab-a6c5-5333563f60aa",
        "colab": {
          "base_uri": "https://localhost:8080/",
          "height": 851
        }
      },
      "source": [
        "accuracy_lst = epoc2.history['acc']\n",
        "loss_lst = epoc2.history['loss']\n",
        "class_error_lst = (1-np.array(epoc2.history['acc']))*100\n",
        "\n",
        "plt.plot(accuracy_lst, c='g')\n",
        "plt.xlabel('#iterations')\n",
        "plt.ylabel('Accuracy')\n",
        "plt.title('Accuracy Plot')\n",
        "plt.show()\n",
        "    \n",
        "plt.plot(loss_lst, c='r')\n",
        "plt.xlabel('#iterations')\n",
        "plt.ylabel('Loss')\n",
        "plt.title('Loss Plot')\n",
        "plt.show()\n",
        "\n",
        "plt.plot(class_error_lst, c='b')\n",
        "plt.xlabel('#iterations')\n",
        "plt.ylabel('Classification error')\n",
        "plt.title('Classification Error Plot')\n",
        "plt.show()"
      ],
      "execution_count": 118,
      "outputs": [
        {
          "output_type": "display_data",
          "data": {
            "image/png": "[encoded data removed]",
            "text/plain": [
              "<Figure size 432x288 with 1 Axes>"
            ]
          },
          "metadata": {
            "tags": []
          }
        },
        {
          "output_type": "display_data",
          "data": {
            "image/png": "[encoded data removed]",
            "text/plain": [
              "<Figure size 432x288 with 1 Axes>"
            ]
          },
          "metadata": {
            "tags": []
          }
        },
        {
          "output_type": "display_data",
          "data": {
            "image/png": "[encoded data removed]",
            "text/plain": [
              "<Figure size 432x288 with 1 Axes>"
            ]
          },
          "metadata": {
            "tags": []
          }
        }
      ]
    },
    {
      "cell_type": "code",
      "metadata": {
        "colab_type": "code",
        "id": "QHPiuZS9WNjv",
        "outputId": "ff27aca3-6036-4791-aa5c-33b66ad5254f",
        "colab": {
          "base_uri": "https://localhost:8080/",
          "height": 51
        }
      },
      "source": [
        "#Validation loss, and accuracy for SG\n",
        "lo, ac = model2.evaluate(X_val2, Y_val, verbose = 0)\n",
        "print(\"Validation Loss: \", lo)\n",
        "print(\"Validation Accuracy : \", ac)"
      ],
      "execution_count": 119,
      "outputs": [
        {
          "output_type": "stream",
          "text": [
            "Validation Loss:  1.0304493862690913\n",
            "Validation Accuracy :  0.82015914\n"
          ],
          "name": "stdout"
        }
      ]
    },
    {
      "cell_type": "markdown",
      "metadata": {
        "colab_type": "text",
        "id": "OYyXmVKiWNj2"
      },
      "source": [
        "### iii. Find the classification accuracy, the number of true positives, true negatives, false positives and false negatives for both training and test data -->"
      ]
    },
    {
      "cell_type": "code",
      "metadata": {
        "colab_type": "code",
        "id": "1nerIaFnWNj4",
        "colab": {}
      },
      "source": [
        "def perf_measure(y_actual, y_pred):\n",
        "    TP = 0\n",
        "    FP = 0\n",
        "    TN = 0\n",
        "    FN = 0\n",
        "\n",
        "    for i in range(len(y_pred)): \n",
        "        if y_actual[i]==y_pred[i]==1:\n",
        "           TP += 1\n",
        "        if y_pred[i]==1 and y_actual[i]!=y_pred[i]:\n",
        "           FP += 1\n",
        "        if y_actual[i]==y_pred[i]==0:\n",
        "           TN += 1\n",
        "        if y_pred[i]==0 and y_actual[i]!=y_pred[i]:\n",
        "           FN += 1\n",
        "    return(TP, FP, TN, FN)"
      ],
      "execution_count": 0,
      "outputs": []
    },
    {
      "cell_type": "code",
      "metadata": {
        "colab_type": "code",
        "id": "_i5O2SlaWNj-",
        "outputId": "55392edf-9c5a-4a02-9b6f-b16b7e1e4cb5",
        "colab": {
          "base_uri": "https://localhost:8080/",
          "height": 51
        }
      },
      "source": [
        "print(np.argmax(model2.predict(X_train2), axis = 1))\n",
        "print(Y_train)"
      ],
      "execution_count": 121,
      "outputs": [
        {
          "output_type": "stream",
          "text": [
            "[ 8 10  2 ...  7  7 11]\n",
            "[ 8 10  2 ...  7  7 11]\n"
          ],
          "name": "stdout"
        }
      ]
    },
    {
      "cell_type": "code",
      "metadata": {
        "colab_type": "code",
        "id": "gOkgxNsCWNkJ",
        "outputId": "a64cfb5a-025a-403b-c14c-ccaecd6f532a",
        "colab": {
          "base_uri": "https://localhost:8080/",
          "height": 34
        }
      },
      "source": [
        "#for training data : TP, FP, FN, TN ->\n",
        "tp, fp, tn, fn = perf_measure(Y_train, np.argmax(model2.predict(X_train2), axis = 1))\n",
        "print(tp ,fp, tn, fn)"
      ],
      "execution_count": 122,
      "outputs": [
        {
          "output_type": "stream",
          "text": [
            "655 0 550 0\n"
          ],
          "name": "stdout"
        }
      ]
    },
    {
      "cell_type": "code",
      "metadata": {
        "colab_type": "code",
        "id": "GgOIjayLWNkQ",
        "outputId": "cae4c05e-d658-4f4d-8dbe-2cff40a0c0b3",
        "colab": {
          "base_uri": "https://localhost:8080/",
          "height": 51
        }
      },
      "source": [
        "#test loss and accuracy for SG\n",
        "lo, ac = model2.evaluate(X_test2, Y_test, verbose = 0)\n",
        "print(\"Test Loss: \", lo)\n",
        "print(\"Test Accuracy : \", ac)"
      ],
      "execution_count": 123,
      "outputs": [
        {
          "output_type": "stream",
          "text": [
            "Test Loss:  0.9355334449617766\n",
            "Test Accuracy :  0.83496946\n"
          ],
          "name": "stdout"
        }
      ]
    },
    {
      "cell_type": "code",
      "metadata": {
        "colab_type": "code",
        "id": "RcTaNAJsWNkY",
        "outputId": "318b69e3-ed73-4d0d-bd9b-626aaba195ad",
        "colab": {
          "base_uri": "https://localhost:8080/",
          "height": 34
        }
      },
      "source": [
        "#for test data : TP, FP, FN, TN ->\n",
        "tp, fp, tn, fn = perf_measure(Y_test, np.argmax(model2.predict(X_test2), axis = 1))\n",
        "print(tp ,fp, tn, fn)"
      ],
      "execution_count": 124,
      "outputs": [
        {
          "output_type": "stream",
          "text": [
            "129 29 116 17\n"
          ],
          "name": "stdout"
        }
      ]
    },
    {
      "cell_type": "markdown",
      "metadata": {
        "colab_type": "text",
        "id": "pyqcs-JMWNke"
      },
      "source": [
        "### iv. There are two training algorithms for Word2Vec: skip-gram and bag of words. Which training algorithm is performing better in this data set? -->"
      ]
    },
    {
      "cell_type": "markdown",
      "metadata": {
        "colab_type": "text",
        "id": "eVQF8A1HWNkf"
      },
      "source": [
        "### Best Training Algorithm : Skip-Gram algorithm\n",
        "\n",
        "\n",
        "Skip-gram algorithm--> i. Validation Accuracy : 84.2% ii. Validation Loss : 0.88 Bag of Words algorithm--> i. Validation Accuracy : 73.8% ii. Validation Loss : 1.41\n",
        "\n",
        "Skip-gram algorithm works best as it gives out more validation accuracy and lesser validation loss as compared to the BagofWords algorithm irrespective of hyperparameter settings.\n",
        "\n"
      ]
    },
    {
      "cell_type": "markdown",
      "metadata": {
        "colab_type": "raw",
        "id": "rUV7tKLiWNkh"
      },
      "source": [
        "Skip-gram algorithm-->\n",
        "    i. Validation Accuracy : 84.2%\n",
        "    ii. Validation Loss : 0.88\n",
        "Bag of Words algorithm-->\n",
        "    i. Validation Accuracy : 73.8%\n",
        "    ii. Validation Loss :  1.41\n",
        "\n",
        "Skip-gram algorithm works best as it gives out more validation accuracy and lesser validation loss as compared to the BagofWords algorithm irrespective of hyperparameter settings."
      ]
    },
    {
      "cell_type": "code",
      "metadata": {
        "colab_type": "code",
        "id": "vSkpTCupWfkB",
        "colab": {}
      },
      "source": [
        ""
      ],
      "execution_count": 0,
      "outputs": []
    }
  ]
}